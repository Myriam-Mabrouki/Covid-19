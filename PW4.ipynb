{
 "cells": [
  {
   "cell_type": "markdown",
   "metadata": {},
   "source": [
    "# PW4: Matplotlib, function plotting, histograms and scatter plots"
   ]
  },
  {
   "cell_type": "markdown",
   "metadata": {},
   "source": [
    "## 1 - Introduction"
   ]
  },
  {
   "attachments": {
    "example.png": {
     "image/png": "[encoded data removed]"
    }
   },
   "cell_type": "markdown",
   "metadata": {},
   "source": [
    "### 1.1 - Definition\n",
    "\n",
    "- `matplotlib` is a \"Python library\" for drawing figures.\n",
    "- It allows you to represent graphs of functions, histograms, or scatterplots such as:\n",
    "\n",
    "![example.png](attachment:example.png)\n",
    "\n",
    "- This library must be imported before it can be used. This is done with the `import` instruction.\n",
    "- The complete documentation of `matplotlib` is online: https://matplotlib.org"
   ]
  },
  {
   "cell_type": "markdown",
   "metadata": {},
   "source": [
    "### 1.2 - `matplotlib.pyplot`\n",
    "\n",
    "- We will not use the whole `matplotlib` library but only the sub-library `matplotlib.pyplot` sufficient for our needs.\n",
    "- We assign an **alias** to this import with the command\n",
    "```Python\n",
    "import matplotlib.pyplot as plt\n",
    "```\n",
    "- This will make the python code easier to write.\n",
    "- The complete documentation of `matplotlib.pyplot` is online: https://matplotlib.org/stable/api/_as_gen/matplotlib.pyplot.html"
   ]
  },
  {
   "cell_type": "markdown",
   "metadata": {},
   "source": [
    "### 1.3 - Exercise 1 :\n",
    "\n",
    "Import the libraries `numpy` and `matplotlib.pyplot` with the appropriate aliases."
   ]
  },
  {
   "cell_type": "code",
   "execution_count": null,
   "metadata": {},
   "outputs": [],
   "source": []
  },
  {
   "cell_type": "markdown",
   "metadata": {},
   "source": [
    "---\n",
    "## 2 - Figures"
   ]
  },
  {
   "cell_type": "markdown",
   "metadata": {},
   "source": [
    "### 2.1 - Creating a figure\n",
    "\n",
    "- **Before doing any plotting**, you must create a figure with the `figure` function:\n",
    "``` Python\n",
    "plt.figure()\n",
    "```\n",
    "- Parentheses are mandatory.\n",
    "- The `figure` function accepts optional arguments which are then indicated between the parentheses. We give examples in the following."
   ]
  },
  {
   "cell_type": "code",
   "execution_count": null,
   "metadata": {},
   "outputs": [],
   "source": []
  },
  {
   "cell_type": "markdown",
   "metadata": {},
   "source": [
    "### 2.2 - Plotting a curve\n",
    "\n",
    "- To draw a curve, we use the `plot` function with two arguments `x` and `y` which are **arrays of the same length**, containing numerical values `x[i]` and `y[i]`.\n",
    "```Python\n",
    "plt.plot(x,y)\n",
    "```\n",
    "- `x` and `y` can also be **lists** or **tuples**.\n",
    "- The `plot` function draw the lines connecting the points of coordinates (`x[i]`,`y[i]`).\n",
    "- The `plot` function accepts optional arguments. We give examples in the following."
   ]
  },
  {
   "cell_type": "markdown",
   "metadata": {},
   "source": [
    "### 2.3 - Plotting the graph of a function\n",
    "\n",
    "- To plot the graph of a function `f`, we must first create the arrays `x` and `y`.\n",
    "- We create the array `x` with the command :\n",
    "```Python\n",
    "x = np.arange(a,b,s)\n",
    "```\n",
    "- The array thus created contains the numbers `[a, a+s, a+2*s, etc. a+k*s]`.\n",
    "- The number `s` is called the **step** of the series of numbers.\n",
    "- The last term of the array is such that `a+ks < b ≤ a+(k+1)s`.\n",
    "- For example, the command\n",
    "```Python\n",
    "x = np.arange(0,10,1)\n",
    "```\n",
    "creates the list `x = [0, 1, 2, 3, 4, 5, 6, 7, 8, 9]`\n",
    "- We create the array `y` with the command\n",
    "```Python\n",
    "y = f(x)\n",
    "```\n",
    "where `f` is the desired function that we have defined beforehand."
   ]
  },
  {
   "cell_type": "markdown",
   "metadata": {},
   "source": [
    "### 2.4 - Exercise 2 : graph of the Gauss function\n",
    "\n",
    "- The function `gauss` whose code is given below returns the value of the function:\n",
    "$$ \\mathrm{gauss}(x) = \\frac{\\exp\\left(\\displaystyle -\\frac{x^2}2\\right)}{\\sqrt{2\\pi}} $$"
   ]
  },
  {
   "cell_type": "code",
   "execution_count": null,
   "metadata": {},
   "outputs": [],
   "source": [
    "def gauss(x):\n",
    "    return np.exp(-x**2/2)/np.sqrt(2*np.pi)"
   ]
  },
  {
   "cell_type": "markdown",
   "metadata": {},
   "source": [
    "- Create an array `x` containing the integers between -4 and 4 (inclusive).\n",
    "- Create an array `y` containing the values of `gauss` function applied to the elements of `x`.\n",
    "- Display `x` and `y` to check the result (namely that `x` contains the desired values and that `x` and `y` have the desired length).\n",
    "- Create a new figure and draw the graph of the function `gauss`."
   ]
  },
  {
   "cell_type": "code",
   "execution_count": null,
   "metadata": {},
   "outputs": [],
   "source": []
  },
  {
   "cell_type": "markdown",
   "metadata": {},
   "source": [
    "### 2.5 - Comments on exercise 2 \n",
    "\n",
    "- The function `plot` only connects the given points `(x[i],y[i])`.\n",
    "- If the **step** is too big between the values of `x`, the curve will be not very representative, as it is the case above where the **step** is equal to **1**.\n",
    "- The more values there are in the tables, the more precise the plot will be."
   ]
  },
  {
   "cell_type": "markdown",
   "metadata": {},
   "source": [
    "### 2.6 - Exercise 2 (continued)\n",
    "\n",
    "- Repeat the above exercise, this time taking for `x` an array containing all the multiples of 0.1 between -4 and 4 (inclusive). (Do not display the values of `x` and `y`.)"
   ]
  },
  {
   "cell_type": "code",
   "execution_count": null,
   "metadata": {},
   "outputs": [],
   "source": []
  },
  {
   "cell_type": "markdown",
   "metadata": {},
   "source": [
    "### 2.7 - Drawing several graphs on the same figure\n",
    "\n",
    "To draw several graphs on the same figure one must :\n",
    "- create a figure using the `figure()` function\n",
    "- execute the command `plot(...)` for each desired graph (without creating a new figure)\n",
    "```Python\n",
    "def function1(x)\n",
    "    return ...\n",
    "def function2(x)\n",
    "    return ...\n",
    "x = np.arange(...)\n",
    "y1 = function1(x)\n",
    "y2 = function2(x)\n",
    "plt.figure()\n",
    "plt.plot(x,y1)\n",
    "plt.plot(x,y2)\n",
    "```\n",
    "- or, for curves that are not defined for the same values of `x` :\n",
    "```Python\n",
    "x1 = np.arange(...)\n",
    "y1 = function1(x1)\n",
    "x2 = np.arange(...)\n",
    "y2 = function2(x2)\n",
    "plt.figure()\n",
    "plt.plot(x1,y1)\n",
    "plt.plot(x2,y2)\n",
    "```"
   ]
  },
  {
   "cell_type": "markdown",
   "metadata": {},
   "source": [
    "### 2.8 - Exercise 3\n",
    "\n",
    "- Draw the graphs of the functions `sin(x)` and `cos(x)` for x between -10 and 10 (inclusive) with a **step** of **0.1**"
   ]
  },
  {
   "cell_type": "code",
   "execution_count": null,
   "metadata": {},
   "outputs": [],
   "source": []
  },
  {
   "cell_type": "markdown",
   "metadata": {},
   "source": [
    "### 2.9 - Comment on exercise 3\n",
    "\n",
    "The `sin(x)` and `cos(x)` functions in the `numpy` library are defined for values of `x` expressed in **radians**.\n",
    "- the right angle measures 90 degrees = π/2 radians ~ 1.57 radians\n",
    "- the flat angle measures 180 degrees = π radians ~ 3.14 radians\n",
    "- we have sin(π/2) = 1 and cos(π/2)=0"
   ]
  },
  {
   "cell_type": "markdown",
   "metadata": {},
   "source": [
    "### 2.10 - Exercise 3 (continued)\n",
    "\n",
    "Identify the graph of the function `sin(x)` and the graph of the function `cos(x)` in the figure above. **(Answer in a new cell)**"
   ]
  },
  {
   "cell_type": "code",
   "execution_count": null,
   "metadata": {},
   "outputs": [],
   "source": []
  },
  {
   "cell_type": "markdown",
   "metadata": {},
   "source": [
    "---\n",
    "## 3 - Customizing figures "
   ]
  },
  {
   "cell_type": "markdown",
   "metadata": {},
   "source": [
    "### 3.1 - Defining the dimensions of the figure\n",
    "\n",
    "- The optional argument `figsize=[width, height]` allows you to define the dimensions of the figure in inches (1 inch = 2.54 centimeters); for example:\n",
    "```Python\n",
    "plt.figure(figsize=[4, 4]) # 4 inches wide and 4 inches high\n",
    "```\n",
    "- To give the dimensions in centimeters one can write\n",
    "```Python\n",
    "plt.figure(figsize=[10/2.54, 10/2.54]) # 10 centimeters wide and 10 centimeters high\n",
    "```\n",
    "- An alternative solution is to give a name to the figure and then indicate its dimensions like this:\n",
    "```Python\n",
    "fig = plt.figure()\n",
    "fig.set_size_inches(10/2.54, 10/2.54) # 10 centimeters wide and 10 centimeters high\n",
    "```"
   ]
  },
  {
   "cell_type": "markdown",
   "metadata": {},
   "source": [
    "### 3.2 - Setting display limits\n",
    "\n",
    "- We can limit the displayed area with the commands :\n",
    "```Python\n",
    "plt.axis([xmin, xmax, ymin, ymax]) # BE CAREFUL with the order of the parameters\n",
    "```\n",
    "- Or separately:\n",
    "```Python\n",
    "plt.xlim([xmin, xmax])\n",
    "plt.ylim([ymin, ymax])\n",
    "```"
   ]
  },
  {
   "cell_type": "markdown",
   "metadata": {},
   "source": [
    "### 3.3 - Adding a title\n",
    "\n",
    "- It is recommended to add a title to figures with the command : \n",
    "```python\n",
    "plt.title(\"figure title\") \n",
    "```"
   ]
  },
  {
   "cell_type": "markdown",
   "metadata": {},
   "source": [
    "### 3.4 - Adding names to the axes\n",
    "\n",
    "- We name the x- and y-axes with the following commands:\n",
    "```Python\n",
    "plt.xlabel(\"name of the x-axis\")\n",
    "plt.ylabel(\"name of the y-axis\")\n",
    "```\n",
    "- We can simply write :\n",
    "```Python\n",
    "plt.xlabel(\"x\")\n",
    "plt.ylabel(\"y\")\n",
    "```\n",
    "- But we can also put some arbitrary text that describes the nature of the data on the x and y-axes:\n",
    "```Python\n",
    "plt.xlabel(\"time\")\n",
    "plt.ylabel(\"pulse\")\n",
    "```"
   ]
  },
  {
   "cell_type": "markdown",
   "metadata": {},
   "source": [
    "### 3.5 - Adding a legend\n",
    "\n",
    "- When several curves are presented in the same graph, it is necessary to be able to identify them. This is done (for example) by adding a legend to the figure. \n",
    "- We add a label to each graph thanks to the `label` option of the `plot` function: \n",
    "```Python\n",
    "plt.plot(x1 ,y1 ,label='plot name 1')\n",
    "plt.plot(x2 ,y2 ,label='plot name 2')\n",
    "```\n",
    "- Then we display the legend with the `legend` function:\n",
    "```Python\n",
    "plt.legend()\n",
    "```"
   ]
  },
  {
   "cell_type": "markdown",
   "metadata": {},
   "source": [
    "### 3.6 - Adding free text\n",
    "\n",
    "- We can add text to a figure with the command : \n",
    "```Python\n",
    "plt.text(a, b, \"some text\") # the text will be displayed to the right of the point of coordinates (a,b) \n",
    "```"
   ]
  },
  {
   "cell_type": "markdown",
   "metadata": {},
   "source": [
    "### 3.7 - Changing the appearance of a line\n",
    "\n",
    "- The `linestyle` option of the `plot` function allows you to change the appearance of a line:\n",
    "```Python\n",
    "plt.plot(x1 ,y1 ,linestyle='solid') # default style\n",
    "plt.plot(x2 ,y2 ,linestyle='dotted') # dotted\n",
    "plt.plot(x2 ,y2 ,linestyle='dashed') # dashed\n",
    "...\n",
    "```\n",
    "- List of accepted line styles: https://matplotlib.org/stable/gallery/lines_bars_and_markers/linestyles.html\n",
    "- The `linewidth` option of the `plot` function allows you to change the thickness of a line:\n",
    "```Python\n",
    "plt.plot(x1 ,y1 ,linewidth=1.5) # default thickness\n",
    "plt.plot(x2 ,y2 ,linestyle=2) # thicker\n",
    "plt.plot(x2 ,y2 ,linestyle=1) # thinner\n",
    "...\n",
    "```"
   ]
  },
  {
   "cell_type": "markdown",
   "metadata": {},
   "source": [
    "### 3.8 - Changing colors\n",
    "\n",
    "- The option `color='color'` is accepted by all graphics commands\n",
    "```Python\n",
    "plt.title(\"figure title\", color='green') \n",
    "plt.plot(x, y, color='red')\n",
    "plt.text(0, 0, \"some text\", color='blue')\n",
    "```\n",
    "- List of colors: https://matplotlib.org/stable/gallery/color/named_colors.html"
   ]
  },
  {
   "cell_type": "markdown",
   "metadata": {},
   "source": [
    "### 3.9 - Changing the position and size of text\n",
    "\n",
    "- The `ha` (horizontal alignment) and `va` (vertical alignment) options change the position of a text relative to the display point.\n",
    "- The `size` option changes the size of a text.\n",
    "- These options are accepted by the `title` and `text` functions.\n",
    "```Python\n",
    "plt.text(a, b, \"some text\",ha='left') # the text will be left aligned on the point (a,b)\n",
    "plt.text(a, b, \"some text\",ha='right') # the text will be right aligned on the point (a,b)\n",
    "plt.text(a, b, \"some text\",ha='left') # the text will be centered horizontally on the point (a,b)\n",
    "```\n",
    "```Python\n",
    "plt.text(a, b, \"some text\",va='center') # the text will be centered vertically on the point (a,b)\n",
    "```\n",
    "```Python\n",
    "plt.text(a, b, \"some text\",size=10) # 10px is the default text size\n",
    "plt.text(a, b, \"some text\",size=20) # the text size will be 20px\n",
    "```\n",
    "```Python\n",
    "plt.title(\"figure title\",size=14) # the size of the title will be 14px\n",
    "```\n",
    "- text options: https://matplotlib.org/stable/tutorials/text/text_props.html"
   ]
  },
  {
   "cell_type": "markdown",
   "metadata": {},
   "source": [
    "### 3.10 - Saving a figure\n",
    "\n",
    "- The function `savefig(\"filename\")` saves a figure as an image file.\n",
    "- The file format is determined by the extension given to the file name (*.png* / *.tif* / *.jpeg* / etc.).\n",
    "- The option `dpi=NNN` allows you to change the resolution of the saved image \n",
    "```Python\n",
    "plt.savefig(\"my_image.png\") ### the default resolution is 72 dots per inch (72dpi)\n",
    "plt.savefig(\"my_image.png\",dpi=300) ### the resolution of the image will be 300 dpi\n",
    "```"
   ]
  },
  {
   "cell_type": "markdown",
   "metadata": {},
   "source": [
    "### 3.11 - Exercise 4\n",
    "\n",
    "- Create a new figure with dimensions : width = 10\\*π cm / height = 5 cm (the number π~3.14 is obtained by entering `np.pi`)\n",
    "- Draw the graphs of the functions:\n",
    "     - `sin(x)` in RED DOTS with the label 'y=sin(x)'\n",
    "     - `cos(x)` in BLUE DASHES with the label 'y=cos(x)'\n",
    "- Do not forget to display the legend.\n",
    "- Restrict the display area to x between -2\\*π and +2\\*π and y between -1 and 1 \n",
    "- Name the axes 'x' and 'y'\n",
    "- Add the title 'Graph of the functions sin(x) and cos(x)' at the size of 14px\n",
    "- Add the text 'The functions sin(x) and cos(x) are periodic', centered on the point of coordinates (0, 0), in GREEN and at the size of 20px\n",
    "- Save the figure under the name 'sincos.png' with a resolution of 150dpi"
   ]
  },
  {
   "cell_type": "code",
   "execution_count": null,
   "metadata": {},
   "outputs": [],
   "source": []
  },
  {
   "cell_type": "markdown",
   "metadata": {},
   "source": [
    "---\n",
    "## 4 - Histogram"
   ]
  },
  {
   "cell_type": "markdown",
   "metadata": {},
   "source": [
    "### 4.1 - Generating random data\n",
    "\n",
    "- For the purpose of this tutorial, we use Python to generate arrays of random numbers.\n",
    "- There are several libraries for this. We will use the functions of the `numpy` library.\n",
    "- The function `random.uniform` is used to generate an array of uniformly distributed numbers.\n",
    "- The function `random.standard_normal` allows to generate an array of numbers distributed according to the *standard normal law*.\n",
    "- The following code returns a number randomly drawn in the range \\[0,1\\].\n",
    "```Python\n",
    "x = np.random.uniform (0, 1)\n",
    "```\n",
    "- The following code generates an array of 10 numbers distributed uniformly in the range \\[0,1\\] and an array of 10 numbers distributed according to the *standard normal law*.\n",
    "```Python\n",
    "N_points = 10\n",
    "array1 = np.random.uniform (0, 1 , N_points)\n",
    "array2 = np.random.standard_normal (N_points)\n",
    "```\n",
    "- The documentation of the sub-library `numpy.random` is online: https://numpy.org/doc/1.16/reference/routines.random.html"
   ]
  },
  {
   "cell_type": "markdown",
   "metadata": {},
   "source": [
    "### 4.2 - Exercise 5\n",
    "- Draw at random a number in the range \\[-1,1\\] and display it.\n",
    "- Generate an array named `ran` of 20 numbers uniformly distributed in the range \\[-2,2\\] and display it."
   ]
  },
  {
   "cell_type": "code",
   "execution_count": null,
   "metadata": {},
   "outputs": [],
   "source": []
  },
  {
   "cell_type": "markdown",
   "metadata": {},
   "source": [
    "### 4.3 Plotting a Histogram\n",
    "\n",
    "- A histogram is a graph which allows you to visualize the distribution of a table of numbers over a given range.\n",
    "- To plot such a graph we use the `hist` command of the `matplotlib.pyplot` library.\n",
    "- The following command plots a histogram, with 10 bands of equal width along the x-axis, that represents the distribution of the numbers in the array `t` over the range `[a,b]`; the values along the y-axis correspond **to the number of elements** of the array `t` in each band:\n",
    "```Python\n",
    "plt.hist(t, bins=10, range=[a,b])\n",
    "```\n",
    "- The following command plots a histogram, with 10 bands of equal width along the x-axis, that represents the density of the numbers in the array `t` over the range `[a,b]`; the values along the y-axis correspond **to the density** of the array `t` in each band; this representation is such that **the total area of the bands is equal to 1** :\n",
    "```Python\n",
    "plt.hist(t, bins=10, range=[a,b], density=True) # True is written with a capital T\n",
    "plt.hist(t, bins=10, range=[a,b], density=1) # equivalent to the line above\n",
    "```\n",
    "- The complete documentation of the `hist` command is online: https://matplotlib.org/stable/api/_as_gen/matplotlib.pyplot.hist.html"
   ]
  },
  {
   "cell_type": "markdown",
   "metadata": {},
   "source": [
    "### 4.4 Exercise 6\n",
    "\n",
    "- Generate a table of 1000 numbers distributed uniformly in the range \\[-2,2\\].\n",
    "- Plot a 10-band histogram representing the **distribution** of these numbers over the range \\[-2,2\\].\n",
    "- Save this figure under the name 'histogram_1.png'.\n",
    "- Plot a second 10-band histogram representing the **density** of these numbers over the range [-2,2].\n",
    "- Save this figure as 'histogram_2.png"
   ]
  },
  {
   "cell_type": "code",
   "execution_count": null,
   "metadata": {},
   "outputs": [],
   "source": []
  },
  {
   "cell_type": "markdown",
   "metadata": {},
   "source": [
    "### 4.5 - Comment on exercise 6\n",
    "\n",
    "- We notice that even with 1000 randomly drawn numbers, the distribution does not seem perfectly uniform.\n",
    "- This impression disappears by increasing the randomly drawn numbers to 10000, but it seems more interesting to us to have *imperfect* data."
   ]
  },
  {
   "cell_type": "markdown",
   "metadata": {},
   "source": [
    "### 4.6 - Exercise 7\n",
    "\n",
    "- Generate a table of 1000 numbers distributed according to the *standard normal distribution*. \n",
    "- Draw a 15-band histogram representing the **density** of these numbers over the range \\[-4,4\\].\n",
    "- On the same figure, draw the graph of the *Gaussian* function on the range [-4,4] (see §2.4 - Exercise 2 : graph of the Gauss function)\n",
    "- Save this figure under the name 'histogram_3.png'"
   ]
  },
  {
   "cell_type": "code",
   "execution_count": null,
   "metadata": {},
   "outputs": [],
   "source": []
  },
  {
   "cell_type": "markdown",
   "metadata": {},
   "source": [
    "### 4.7 - Comment on exercise 7\n",
    "\n",
    "- The two representations (the histogram of the random numbers and the graph of the Gaussian function) must correspond approximately."
   ]
  },
  {
   "cell_type": "markdown",
   "metadata": {},
   "source": [
    "---\n",
    "## 5 - Scatter plots"
   ]
  },
  {
   "cell_type": "markdown",
   "metadata": {},
   "source": [
    "### 5.1 Representing a scatterplot\n",
    "\n",
    "- A scatterplot is given by **two arrays of numbers of equal length**, `x` and `y`, the first array being the x-coordinate of points `M[i]=(x[i],y[i])` and the second array being the y-coordinate. The data are thus of the same nature as for the plot of the graph of a function. The difference lies in the way the data are displayed in the graph.\n",
    "- In order to draw the graph of a function, we join the points `(x[i],y[i]` with lines, and we wish to observe a regular line.\n",
    "- In order to draw scatterplot, we only display the points, which will be represented by a cross, a circle, or another symbol, but we do not want to draw the lines joining those points.\n",
    "- To achieve this, we use two options of the `plot` command: the `linestyle='none'` option suppresses the display of lines, the `marker='x'` option displays a cross for each point.\n",
    "- This gives, for two arrays `x` and `y`, with different marker types:\n",
    "```Python\n",
    "plt.plot(x, y, linestyle='none', marker='x') # display a cross for each point\n",
    "plt.plot(x, y, linestyle='none', marker='+') # display a cross for each point\n",
    "plt.plot(x, y, linestyle='none', marker='.') # displays a dot for each point\n",
    "plt.plot(x, y, linestyle='none', marker='o') # show a bigger dot for each point\n",
    "```\n",
    "- You can also use the shorter version below:\n",
    "```Python\n",
    "plt.plot(x, y, 'x') # display a cross for each point\n",
    "plt.plot(x, y, '+') # show a cross for each point\n",
    "plt.plot(x, y, '.') # display a dot for each point\n",
    "plt.plot(x, y, 'o') # show a big dot for each point\n",
    "```\n",
    "- List of accepted markers: https://matplotlib.org/stable/api/markers_api.html\n",
    "- Other options of the `plot` command are also accepted: `color`, `label`, etc."
   ]
  },
  {
   "cell_type": "markdown",
   "metadata": {},
   "source": [
    "### 5.2 - Exercise 8\n",
    "\n",
    "- Generate a random array named `x` of 100 numbers distributed uniformly in the range \\[-4,4\\].\n",
    "- Generate a second random array named `y` of 100 numbers distributed uniformly in the range \\[-4,4\\].\n",
    "- Create a figure of dimension 5 inches in width and 5 inches in height and draw the curve joining the points of coordinates `(x[i],y[i])`.\n",
    "- Create a second figure of the same dimensions and plot the scatterplot of the points of coordinates `(x[i],y[i])`, marked with an `x`.\n",
    "- Save the second figure under the name 'scatterplot_1.png'."
   ]
  },
  {
   "cell_type": "code",
   "execution_count": null,
   "metadata": {},
   "outputs": [],
   "source": []
  },
  {
   "cell_type": "markdown",
   "metadata": {},
   "source": [
    "### 5.3 - Comment on exercise 8\n",
    "\n",
    "- The first representation is obviously not very interesting for random points."
   ]
  },
  {
   "cell_type": "markdown",
   "metadata": {},
   "source": [
    "### 5.4 - Interpretating scatter plots\n",
    "\n",
    "- The figure above represents randomly drawn points. This property can be seen visually, because the points fill more or less the square.\n",
    "- For data from experiments, the points rather respect a certain regularity.\n",
    "- We will artificially create an array of points distributed around a curve and display the scatterplot and the curve.  "
   ]
  },
  {
   "cell_type": "markdown",
   "metadata": {},
   "source": [
    "### Exercise 9\n",
    "\n",
    "- The following code produces two arrays of numbers `x`and `y`. The points with coordinates `(x[i],y[i])` lie near the graph of the function `f(x) = exp(-x)` "
   ]
  },
  {
   "cell_type": "code",
   "execution_count": null,
   "metadata": {},
   "outputs": [],
   "source": [
    "def f(x):\n",
    "    return np.exp(-x)\n",
    "a = np.random.uniform(0,4,100)\n",
    "b = []\n",
    "for x in a:\n",
    "    b.append( f(x)*np.random.uniform(0.5, 1.5) )"
   ]
  },
  {
   "cell_type": "markdown",
   "metadata": {},
   "source": [
    "- Draw, on the same figure, the scatterplot of points with coordinates `(a[i],b[i])`, and the graph of the function `f(x)` on the range \\[0,4\\]\n",
    "- Make sure that the scatterplot is close to the curve.\n",
    "- Save this figure under the name `scatterplot_2.png`"
   ]
  },
  {
   "cell_type": "code",
   "execution_count": null,
   "metadata": {},
   "outputs": [],
   "source": []
  }
 ],
 "metadata": {
  "kernelspec": {
   "display_name": "Python 3",
   "language": "python",
   "name": "python3"
  },
  "language_info": {
   "codemirror_mode": {
    "name": "ipython",
    "version": 3
   },
   "file_extension": ".py",
   "mimetype": "text/x-python",
   "name": "python",
   "nbconvert_exporter": "python",
   "pygments_lexer": "ipython3",
   "version": "3.6.9"
  },
  "widgets": {
   "application/vnd.jupyter.widget-state+json": {
    "state": {
     "39fba40e66f34d7c9c9e4be827baadae": {
      "model_module": "@jupyter-widgets/base",
      "model_module_version": "1.2.0",
      "model_name": "LayoutModel",
      "state": {}
     },
     "6cf1ffa0c7e547e487f0fc4e5234b3ca": {
      "model_module": "@jupyter-widgets/base",
      "model_module_version": "1.2.0",
      "model_name": "LayoutModel",
      "state": {}
     },
     "7241a887f2124a9c96d3a59843a2a5c0": {
      "model_module": "@jupyter-widgets/base",
      "model_module_version": "1.2.0",
      "model_name": "LayoutModel",
      "state": {}
     },
     "b0c66792828a43f38ae63595382abbf6": {
      "model_module": "jupyter-matplotlib",
      "model_module_version": "^0.7.4",
      "model_name": "ToolbarModel",
      "state": {
       "layout": "IPY_MODEL_e972a754bf4241838d06919aeee42768",
       "toolitems": [
        [
         "Home",
         "Reset original view",
         "home",
         "home"
        ],
        [
         "Back",
         "Back to previous view",
         "arrow-left",
         "back"
        ],
        [
         "Forward",
         "Forward to next view",
         "arrow-right",
         "forward"
        ],
        [
         "Pan",
         "Pan axes with left mouse, zoom with right",
         "arrows",
         "pan"
        ],
        [
         "Zoom",
         "Zoom to rectangle",
         "square-o",
         "zoom"
        ],
        [
         "Download",
         "Download plot",
         "floppy-o",
         "save_figure"
        ]
       ]
      }
     },
     "b7d95ed910df4b9b9c12d49ef61a13fd": {
      "model_module": "jupyter-matplotlib",
      "model_module_version": "^0.7.4",
      "model_name": "ToolbarModel",
      "state": {
       "layout": "IPY_MODEL_39fba40e66f34d7c9c9e4be827baadae",
       "toolitems": [
        [
         "Home",
         "Reset original view",
         "home",
         "home"
        ],
        [
         "Back",
         "Back to previous view",
         "arrow-left",
         "back"
        ],
        [
         "Forward",
         "Forward to next view",
         "arrow-right",
         "forward"
        ],
        [
         "Pan",
         "Pan axes with left mouse, zoom with right",
         "arrows",
         "pan"
        ],
        [
         "Zoom",
         "Zoom to rectangle",
         "square-o",
         "zoom"
        ],
        [
         "Download",
         "Download plot",
         "floppy-o",
         "save_figure"
        ]
       ]
      }
     },
     "e972a754bf4241838d06919aeee42768": {
      "model_module": "@jupyter-widgets/base",
      "model_module_version": "1.2.0",
      "model_name": "LayoutModel",
      "state": {}
     }
    },
    "version_major": 2,
    "version_minor": 0
   }
  }
 },
 "nbformat": 4,
 "nbformat_minor": 4
}

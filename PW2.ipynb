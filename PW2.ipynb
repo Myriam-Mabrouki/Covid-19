{
 "cells": [
  {
   "cell_type": "markdown",
   "metadata": {},
   "source": [
    "# PW 2 : Python - Conditions, functions"
   ]
  },
  {
   "cell_type": "markdown",
   "metadata": {},
   "source": [
    "\n",
    "##  1- Conditions"
   ]
  },
  {
   "cell_type": "markdown",
   "metadata": {},
   "source": [
    "### 1.1 - Booleans"
   ]
  },
  {
   "cell_type": "markdown",
   "metadata": {},
   "source": [
    "Boolean variables were introduced in PW1. As a reminder, these are variables which can only take 2 values, `True` or `False` ."
   ]
  },
  {
   "cell_type": "markdown",
   "metadata": {},
   "source": [
    "**Exercise:** In a new cell, assign the value `False` to a variable `test` and display its content. "
   ]
  },
  {
   "cell_type": "code",
   "execution_count": 2,
   "metadata": {},
   "outputs": [
    {
     "name": "stdout",
     "output_type": "stream",
     "text": [
      "False\n"
     ]
    }
   ],
   "source": [
    "#correction\n",
    " test=False\n",
    "print(test)"
   ]
  },
  {
   "cell_type": "markdown",
   "metadata": {},
   "source": [
    "### 1.2 - Comparison operators "
   ]
  },
  {
   "cell_type": "markdown",
   "metadata": {},
   "source": [
    "The python language includes several operators ( `==`, `<=`, `>=` ...) to perform tests whose result is a boolean which is 'True' if the condition is true, `False` if it is not. For example, the `==` operator is used to test if two objects are equal (as in `75 == 24`) or identical (as in `\"Jacques\" == \"Joe\"`). Similarly, the `<=` operator tests whether one number is less than or equal to another."
   ]
  },
  {
   "cell_type": "markdown",
   "metadata": {},
   "source": [
    "**Exercise:** Display the result of the test `\"James\" == \"Joe\"` and `\"James\" == \"James\"`.\n",
    "Define a `test2` variable containing the value 25. Test if this variable is equal to 26. Test if this variable is less than 50. Test if this variable is greater than 50. Display the test results. "
   ]
  },
  {
   "cell_type": "markdown",
   "metadata": {},
   "source": [
    "---"
   ]
  },
  {
   "cell_type": "markdown",
   "metadata": {},
   "source": [
    "### 1.3 - Tests Combination"
   ]
  },
  {
   "cell_type": "markdown",
   "metadata": {},
   "source": [
    "Tests can be combined using the pseudo-operators `and` and` or`. For `and`, the result of the combination is `True` if **both** tests are` True`, otherwise it is `False`. For the second, the result of the combination is `True` if **at least one** of the 2 tests is` True`, otherwise it is `False`."
   ]
  },
  {
   "cell_type": "markdown",
   "metadata": {},
   "source": [
    "**Exercise:**  The tables giving the different combinations are called truth tables. Run the cell below and fill in the tables in the corresponding Markdown cell. "
   ]
  },
  {
   "cell_type": "code",
   "execution_count": 5,
   "metadata": {},
   "outputs": [
    {
     "name": "stdout",
     "output_type": "stream",
     "text": [
      "False\n",
      "False\n",
      "False\n",
      "True\n"
     ]
    }
   ],
   "source": [
    "print(False and False)\n",
    "print(False and True)\n",
    "print(True and False)\n",
    "print(True and True)"
   ]
  },
  {
   "cell_type": "code",
   "execution_count": 6,
   "metadata": {},
   "outputs": [
    {
     "name": "stdout",
     "output_type": "stream",
     "text": [
      "False\n",
      "True\n",
      "True\n",
      "True\n"
     ]
    }
   ],
   "source": [
    "print(False or False)\n",
    "print(False or True)\n",
    "print(True or False)\n",
    "print(True or True)"
   ]
  },
  {
   "cell_type": "markdown",
   "metadata": {},
   "source": [
    "\n",
    "\n",
    "| and | True | False|\n",
    "|:----:|:----:|:----|\n",
    "| True | ?| ?| \n",
    "| False | ?| ?| \n",
    "\n",
    "\n",
    "| or | True | False|\n",
    "|:----:|:----:|:----|\n",
    "| True | ?| ?| \n",
    "| False | ?| ?| "
   ]
  },
  {
   "cell_type": "markdown",
   "metadata": {},
   "source": [
    "---\n",
    "**Exercise :**  It is possible to add the keyword `not` before a boolean variable or a test. Run the following cell. What do you conclude?"
   ]
  },
  {
   "cell_type": "code",
   "execution_count": 7,
   "metadata": {},
   "outputs": [
    {
     "name": "stdout",
     "output_type": "stream",
     "text": [
      "False\n",
      "True\n"
     ]
    }
   ],
   "source": [
    "print(not True)\n",
    "print(not False)"
   ]
  },
  {
   "cell_type": "markdown",
   "metadata": {},
   "source": [
    "## answer\n",
    "\n"
   ]
  },
  {
   "cell_type": "markdown",
   "metadata": {},
   "source": [
    "---"
   ]
  },
  {
   "cell_type": "markdown",
   "metadata": {},
   "source": [
    "### 1.4 - Branching"
   ]
  },
  {
   "cell_type": "markdown",
   "metadata": {},
   "source": [
    "In a program, it is very common to want to execute different instructions according to the different cases encountered. The `if` command allows to select the instructions to be performed according to the result of a test. "
   ]
  },
  {
   "cell_type": "markdown",
   "metadata": {},
   "source": [
    "```python\n",
    "if test:\n",
    "    instruction_if_test_is_True\n",
    "else:\n",
    "    instruction_if_test_is_False\n",
    "```"
   ]
  },
  {
   "cell_type": "markdown",
   "metadata": {},
   "source": [
    "**Exercise**: Write two tests reusing the boolean variables and tests examples seen previously."
   ]
  },
  {
   "cell_type": "markdown",
   "metadata": {},
   "source": [
    "**Exercise**: Run the following cell and check that the result is "
   ]
  },
  {
   "cell_type": "code",
   "execution_count": 18,
   "metadata": {},
   "outputs": [
    {
     "name": "stdout",
     "output_type": "stream",
     "text": [
      "1st example\n",
      "   This is True\n",
      "\n",
      "2nd example\n",
      "\n",
      "3rd example\n",
      "\n",
      "4th example\n",
      "\n",
      "5th example\n",
      "T   his is executed if test is False\n",
      "\n",
      "6th example\n",
      "   First test is False\n",
      "   test2 = 26 which is smaller than or equal to 50\n",
      "\n"
     ]
    }
   ],
   "source": [
    "print(\"1st example\")\n",
    "if True:\n",
    "    print(\"   This is True\")\n",
    "print()\n",
    "\n",
    "print(\"2nd example\")\n",
    "if not True:\n",
    "    print(\"   This is False\")\n",
    "print()\n",
    "\n",
    "print(\"3rd example\")\n",
    "if False:\n",
    "    print(\"   This is False\")\n",
    "print()\n",
    "\n",
    "print(\"4th example\")\n",
    "if True and False:\n",
    "    print(\"   This is False\")\n",
    "print()\n",
    "\n",
    "print(\"5th example\")\n",
    "if False:\n",
    "    print(\"   This is executed if test is True\")\n",
    "else:\n",
    "    print(\"T   his is executed if test is False\")\n",
    "print()\n",
    "\n",
    "print(\"6th example\")\n",
    "if \"James\" == \"Joe\" or test2<=50:\n",
    "    print(\"   First test is False\")\n",
    "    print(\"   test2 =\",test2,\"which is smaller than or equal to 50\")\n",
    "else:\n",
    "    print(\"   First test is False\")\n",
    "    print(\"   test2 =\",test2,\"which is greater than 50\")\n",
    "print()"
   ]
  },
  {
   "cell_type": "markdown",
   "metadata": {},
   "source": [
    "## 2 Loop with the command `for`\n",
    "When you want to make the same block several times, it makes no sense to duplicate the instructions as many times as necessary. We use the `for` command, an example of which is given below."
   ]
  },
  {
   "cell_type": "code",
   "execution_count": 20,
   "metadata": {},
   "outputs": [
    {
     "name": "stdout",
     "output_type": "stream",
     "text": [
      "0\n",
      "1\n",
      "2\n",
      "3\n",
      "4\n",
      "5\n",
      "6\n",
      "7\n",
      "8\n",
      "9\n"
     ]
    }
   ],
   "source": [
    "for i in range(10):\n",
    "    print(i)"
   ]
  },
  {
   "cell_type": "markdown",
   "metadata": {},
   "source": [
    "In the above statement, the function \"range(10)\" creates a list of ten integers. Any list can be used"
   ]
  },
  {
   "cell_type": "code",
   "execution_count": 19,
   "metadata": {},
   "outputs": [
    {
     "name": "stdout",
     "output_type": "stream",
     "text": [
      "i= 1  sum= 1\n",
      "i= 2  sum= 3\n",
      "i= 3  sum= 6\n",
      "i= 5  sum= 11\n",
      "i= 7  sum= 18\n",
      "i= 11  sum= 29\n",
      "i= 13  sum= 42\n"
     ]
    }
   ],
   "source": [
    "sum=0\n",
    "for i in [1,2,3,5,7,11,13]:\n",
    "    sum=sum+i\n",
    "    print(\"i=\",i,\" sum=\",sum)\n"
   ]
  },
  {
   "cell_type": "markdown",
   "metadata": {},
   "source": [
    "---\n",
    "**exercice**: Using the examples above, write a program that uses a loop and calculates the sum of the squares of the prime numbers between 1 and 13 included."
   ]
  },
  {
   "cell_type": "markdown",
   "metadata": {},
   "source": [
    "---"
   ]
  },
  {
   "cell_type": "markdown",
   "metadata": {},
   "source": [
    "## 3 - Functions"
   ]
  },
  {
   "cell_type": "markdown",
   "metadata": {},
   "source": [
    "Loops are suitable when an instruction block is used at a single point in the program. Otherwise, it is better to use a function. In this course we will use many functions written by others. A library is a set of functions to answer a given problem.\n",
    "\n",
    "In a program a function must be defined before it is called, that is, used as if it were a python command like the `print` function. \n",
    "\n",
    "Your functions and libraries allow you to enrich your programs so that they meet your needs. \n",
    "\n",
    "### 3.1 an example\n"
   ]
  },
  {
   "cell_type": "code",
   "execution_count": 58,
   "metadata": {},
   "outputs": [
    {
     "name": "stdout",
     "output_type": "stream",
     "text": [
      " sum= 378\n"
     ]
    }
   ],
   "source": [
    "def myfunction(i):    \n",
    "    j=i**2\n",
    "    return j\n",
    "\n",
    "sum=0\n",
    "for i in [1,2,3,5,7,11,13]:\n",
    "    sum=sum+myfunction(i)\n",
    "print(\" sum=\",sum)"
   ]
  },
  {
   "cell_type": "markdown",
   "metadata": {},
   "source": [
    "The previous example just uses a function to do the equivalent of the previous program. \n",
    "The `return` instruction at the end allows to return a value in the main part of the program (here the square of the parameter `i`)\n",
    "The interest of a function is to be able to make several calculations and to return several results simultaneously. As in the example below.\n"
   ]
  },
  {
   "cell_type": "code",
   "execution_count": 59,
   "metadata": {},
   "outputs": [
    {
     "name": "stdout",
     "output_type": "stream",
     "text": [
      " sum i^2 = 378\n",
      " sum i^3= 4032\n"
     ]
    }
   ],
   "source": [
    "def myfunction(i):    \n",
    "    j=i**2\n",
    "    k=j*i # ie k=i**3\n",
    "    return j,k\n",
    "\n",
    "sum2=0\n",
    "sum3=0\n",
    "for i in [1,2,3,5,7,11,13]:\n",
    "    i2,i3=myfunction(i)\n",
    "    sum2=sum2+i2\n",
    "    sum3=sum3+i3\n",
    "print(\" sum i^2 =\",sum2)\n",
    "print(\" sum i^3=\",sum3)"
   ]
  },
  {
   "cell_type": "code",
   "execution_count": 60,
   "metadata": {},
   "outputs": [
    {
     "name": "stdout",
     "output_type": "stream",
     "text": [
      " sum i^2 = 378\n",
      " sum i^3= 4032\n"
     ]
    }
   ],
   "source": [
    "def myfunction(i,n):    \n",
    "    j=i**n\n",
    "    k=j*i # ie k=i**3\n",
    "    return j,k\n",
    "\n",
    "sum2=0\n",
    "sum3=0\n",
    "for i in [1,2,3,5,7,11,13]:\n",
    "    i2,i3=myfunction(i,2)\n",
    "    sum2=sum2+i2\n",
    "    sum3=sum3+i3\n",
    "print(\" sum i^2 =\",sum2)\n",
    "print(\" sum i^3=\",sum3)"
   ]
  },
  {
   "cell_type": "markdown",
   "metadata": {},
   "source": [
    "**exercice**: In this exercise, you are asked to make a function that takes a list as of prime an argument, and returns a list containing all of its elements, plus the next prime numbers . We will proceed step by step.\n",
    "The objective being here to give you the basics allowing you to modify source code, the implementation is not optimal and will put the priority on the reuse of the notions seen previously."
   ]
  },
  {
   "cell_type": "markdown",
   "metadata": {},
   "source": [
    "**step 1**: Create a function `TestPrime` that takes a list `prime` as first argument, then an integer `n` as second argument, and returns the boolean variable True.\n",
    "Test this function with the list `[2]` and `n=4`."
   ]
  },
  {
   "cell_type": "markdown",
   "metadata": {},
   "source": [
    "**step 2**: Modify this function to insert a loop on the values included in the `primes` list. Display each value taken"
   ]
  },
  {
   "cell_type": "markdown",
   "metadata": {},
   "source": [
    "**step 3**: For each value `i` taken from the list `prices`, check if the number `n` is a multiple. To do this use the result of the test `n%i==0`  (the operator `%` gives the remainder of the integer division). In that case, return `False`."
   ]
  },
  {
   "cell_type": "markdown",
   "metadata": {},
   "source": [
    "**step 4**: Create a second function `AddOnePrime` that takes as a single argument a list of integers, finds the largest value in that list and stores it in `imax` variable, then returns the string ``ERROR``. \n"
   ]
  },
  {
   "cell_type": "markdown",
   "metadata": {},
   "source": [
    "**step 5**: In the function `AddOnePrime` loop over the integers `i` between `imax+1` and `2*imax+1`. For each value, test if it is a prime number thanks to the previous `TestPrime` function to which you will send the list `primes` and the integer `i`. You will display the result of this test. You will test this function with the list `primes=[2]`"
   ]
  },
  {
   "cell_type": "markdown",
   "metadata": {},
   "source": [
    "**test 6**: When the test is `True`, you have found a new prime number. Add it to the list `primes` with the command `prices.append(i)` and return the new list `prices` as the result of the function."
   ]
  },
  {
   "cell_type": "markdown",
   "metadata": {},
   "source": [
    "**step 7**: Make a loop calling 20 times this function on the list `primes` which you have initialized with the value `[2]`. Check that you find the first 21 prime numbers`[2, 3, 5, 7, 11, 13, 17, 19, 23, 29, 31, 37, 41, 43, 47, 53, 59, 61, 67, 71, 73]`."
   ]
  },
  {
   "cell_type": "markdown",
   "metadata": {},
   "source": [
    "---"
   ]
  }
 ],
 "metadata": {
  "kernelspec": {
   "display_name": "Python 3",
   "language": "python",
   "name": "python3"
  },
  "language_info": {
   "codemirror_mode": {
    "name": "ipython",
    "version": 3
   },
   "file_extension": ".py",
   "mimetype": "text/x-python",
   "name": "python",
   "nbconvert_exporter": "python",
   "pygments_lexer": "ipython3",
   "version": "3.6.9"
  }
 },
 "nbformat": 4,
 "nbformat_minor": 4
}

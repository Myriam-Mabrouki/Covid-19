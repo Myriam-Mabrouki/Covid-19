{
 "cells": [
  {
   "cell_type": "markdown",
   "metadata": {},
   "source": [
    "# TP 1 : JupyterLab - Introductory Module"
   ]
  },
  {
   "cell_type": "markdown",
   "metadata": {},
   "source": [
    "## 1 - Jupyter"
   ]
  },
  {
   "cell_type": "markdown",
   "metadata": {},
   "source": [
    "Jupyter Lab is a web application for creating and running notebooks like this one. These notebooks are organized in the form of a list of cells. \n",
    "In the scope of this lecture we will use only cells of two types: \n",
    "   - *Markdown* cells (such as this block). It is written in *Markdown* format which allows to add short instruction in the text you want to display to define the layout;\n",
    "   - *Code* cells which can contain a computer program, or a part of a program. Each cell can be \"ran, and include the display of some results.  In this course, we will only use cells that allow the execution of python source code. \n",
    "\n",
    "To summarize a bit roughly, each *code* cell is executed as if you were running a program containing the source code of all previously executed cells. Each cell actually shares the same memory and variable naming space. \n",
    "\n",
    "Once you get used to it, a notebook is very useful because it allows to mix instructions, examples and programs that you can modify on the fly, and see the result by simply clicking on the \"run\" button.\n",
    "\n"
   ]
  },
  {
   "cell_type": "markdown",
   "metadata": {},
   "source": [
    "### I-1  Cells in jupyter notebook"
   ]
  },
  {
   "cell_type": "markdown",
   "metadata": {},
   "source": [
    "A cell can be in several states. \n",
    "- It is active by clicking once on it. \n",
    "- By double-clicking on it, it becomes editable and you can modify its content. \n",
    "- You run it by pressing the \"run\" button.\n",
    "\n",
    "The active cell is the one next to which you see a colored vertical sidebar."
   ]
  },
  {
   "cell_type": "markdown",
   "metadata": {},
   "source": [
    "---\n",
    "**Exercise:** \n",
    "- Right click on the cell and look at the list of possible actions. \n",
    "\n",
    "- Press \"+\" to create a new cell. Change its type (Markdown or code) by selecting it from the menu at the top of this notebook.\n",
    "\n",
    "- Use the arrows on the top menu to move this cell."
   ]
  },
  {
   "cell_type": "markdown",
   "metadata": {},
   "source": [
    "**Exercise :**\n",
    "\n",
    "This is a new markdown cell."
   ]
  },
  {
   "cell_type": "code",
   "execution_count": 1,
   "metadata": {},
   "outputs": [
    {
     "data": {
      "text/plain": [
       "'This is a new code cell'"
      ]
     },
     "execution_count": 1,
     "metadata": {},
     "output_type": "execute_result"
    }
   ],
   "source": [
    "\"This is a new code cell\""
   ]
  },
  {
   "cell_type": "markdown",
   "metadata": {},
   "source": [
    "---"
   ]
  },
  {
   "cell_type": "markdown",
   "metadata": {},
   "source": [
    "### I-2 *Markdown*, a lightweight markup language "
   ]
  },
  {
   "cell_type": "markdown",
   "metadata": {},
   "source": [
    "- All the tags that can be used in Jupyter are visible for example [there](https://github.com/adam-p/markdown-here/wiki/Markdown-Cheatsheet).\n",
    "- It becomes very powerful in the scope of this course because you have have the possibility to use the syntax of the $\\LaTeX$ language for all mathematical equations and formulae. \n",
    "\n",
    "- For instance, $\\frac{dx}{dt}=-cx$ is written `$\\frac{dx}{dt}=-cx$` (double click to edit this cell and check).\n",
    "\n",
    "- Titles of different depths are simply obtained by adding one or more `#`  depending on the desired depth, followed by a space. \n",
    "- The display in *italic* (or **bold**) of a word or part of a sentence is obtained by adding `*` (or `**`) before and after it. \n",
    "\n",
    "- List or numbered list are obtained using `-`or `1.`followed by space at the begining of the sentence."
   ]
  },
  {
   "cell_type": "markdown",
   "metadata": {},
   "source": [
    "---\n",
    "**Exercise :** Create a *Markdown* cell which contains a text with terms in bold and italic, a list,  2 titles of different depth (If needed, edit cells above to check how things are done). "
   ]
  },
  {
   "cell_type": "markdown",
   "metadata": {},
   "source": [
    "**Exercise :**\n",
    "\n",
    "## This is a first title\n",
    "\n",
    "### This is a second title\n",
    "\n",
    "**This setence is in bold.**\n",
    "*This setence is in italic.*\n",
    "\n",
    "- Here is a list.\n",
    "- This is the second element in the list.\n",
    "- And this is the last one."
   ]
  },
  {
   "cell_type": "markdown",
   "metadata": {},
   "source": [
    "---"
   ]
  },
  {
   "cell_type": "markdown",
   "metadata": {},
   "source": [
    "## 2 - Python - The basics"
   ]
  },
  {
   "cell_type": "markdown",
   "metadata": {},
   "source": [
    "We will use here the Python 3 language. It is an interpreted (as opposed to compiled) programming language.\n",
    "In fact it is not the \"fastest\" one, but it has a wide range of libraries that allow to do all the things we will need in this course.\n",
    "We limit ourselves here to an introduction to the basic instructions and principles, with the understanding that most of the exercises will only require modifications to the source code that we will provide."
   ]
  },
  {
   "cell_type": "markdown",
   "metadata": {},
   "source": [
    "### 2-1 Basic operation using  *Code* cell"
   ]
  },
  {
   "cell_type": "markdown",
   "metadata": {},
   "source": [
    "You can perform mathematical calculations, simply by using the operators `+` (addition), `-` (subtraction), `*` (multiplication), `/` (division) and `**` (power). If necessary and to avoid any problems with the order of operators. Be careful, if you put several calculations in the same cell, only the result of the last line is displayed. The reason for this is that the results are not explicitely printed and only the last one is stored by default. Of course, you must use the command print or use variables to store the result as we will see in the next paragraph."
   ]
  },
  {
   "cell_type": "markdown",
   "metadata": {},
   "source": [
    "---\n",
    "**Exercise:** Execute the following cells, checking from the result that it is the one you expected, taking into account the priority rules and the parentheses."
   ]
  },
  {
   "cell_type": "code",
   "execution_count": 2,
   "metadata": {},
   "outputs": [
    {
     "data": {
      "text/plain": [
       "2"
      ]
     },
     "execution_count": 2,
     "metadata": {},
     "output_type": "execute_result"
    }
   ],
   "source": [
    "1+1"
   ]
  },
  {
   "cell_type": "code",
   "execution_count": 3,
   "metadata": {},
   "outputs": [
    {
     "data": {
      "text/plain": [
       "6"
      ]
     },
     "execution_count": 3,
     "metadata": {},
     "output_type": "execute_result"
    }
   ],
   "source": [
    "2*3"
   ]
  },
  {
   "cell_type": "code",
   "execution_count": 4,
   "metadata": {},
   "outputs": [
    {
     "data": {
      "text/plain": [
       "5.0"
      ]
     },
     "execution_count": 4,
     "metadata": {},
     "output_type": "execute_result"
    }
   ],
   "source": [
    "3+4/2"
   ]
  },
  {
   "cell_type": "code",
   "execution_count": 5,
   "metadata": {},
   "outputs": [
    {
     "data": {
      "text/plain": [
       "-1"
      ]
     },
     "execution_count": 5,
     "metadata": {},
     "output_type": "execute_result"
    }
   ],
   "source": [
    "8-9"
   ]
  },
  {
   "cell_type": "code",
   "execution_count": 6,
   "metadata": {},
   "outputs": [
    {
     "data": {
      "text/plain": [
       "13"
      ]
     },
     "execution_count": 6,
     "metadata": {},
     "output_type": "execute_result"
    }
   ],
   "source": [
    "(1+2)*3+4"
   ]
  },
  {
   "cell_type": "code",
   "execution_count": 7,
   "metadata": {},
   "outputs": [
    {
     "data": {
      "text/plain": [
       "21"
      ]
     },
     "execution_count": 7,
     "metadata": {},
     "output_type": "execute_result"
    }
   ],
   "source": [
    "(1+2)*(3+4)"
   ]
  },
  {
   "cell_type": "code",
   "execution_count": 8,
   "metadata": {},
   "outputs": [
    {
     "data": {
      "text/plain": [
       "11"
      ]
     },
     "execution_count": 8,
     "metadata": {},
     "output_type": "execute_result"
    }
   ],
   "source": [
    "1+2*3+4"
   ]
  },
  {
   "cell_type": "code",
   "execution_count": 9,
   "metadata": {},
   "outputs": [
    {
     "data": {
      "text/plain": [
       "15"
      ]
     },
     "execution_count": 9,
     "metadata": {},
     "output_type": "execute_result"
    }
   ],
   "source": [
    "1+2*(3+4)"
   ]
  },
  {
   "cell_type": "code",
   "execution_count": 10,
   "metadata": {},
   "outputs": [
    {
     "data": {
      "text/plain": [
       "11"
      ]
     },
     "execution_count": 10,
     "metadata": {},
     "output_type": "execute_result"
    }
   ],
   "source": [
    "(1+2*3+4)"
   ]
  },
  {
   "cell_type": "code",
   "execution_count": 11,
   "metadata": {},
   "outputs": [
    {
     "data": {
      "text/plain": [
       "16"
      ]
     },
     "execution_count": 11,
     "metadata": {},
     "output_type": "execute_result"
    }
   ],
   "source": [
    "2**4"
   ]
  },
  {
   "cell_type": "code",
   "execution_count": 12,
   "metadata": {},
   "outputs": [
    {
     "data": {
      "text/plain": [
       "16"
      ]
     },
     "execution_count": 12,
     "metadata": {},
     "output_type": "execute_result"
    }
   ],
   "source": [
    "2**(5-1)"
   ]
  },
  {
   "cell_type": "markdown",
   "metadata": {},
   "source": [
    "**Exercise :** I have executed all the code cells and results were the ones I expected."
   ]
  },
  {
   "cell_type": "markdown",
   "metadata": {},
   "source": [
    "---"
   ]
  },
  {
   "cell_type": "markdown",
   "metadata": {},
   "source": [
    "### 2-2 The variables"
   ]
  },
  {
   "cell_type": "markdown",
   "metadata": {},
   "source": [
    "- In order to do more complex operations than those seen above it is necessary to store the results.\n",
    "- A variable is in a simplified way a label or a name that allows us to say on which value to do an operation and from which the interpreter is able to find it in memory.\n",
    "- The name of a variable can contain any alphanumeric character, but it must not start with a number. Capital letters and accented characters are to be avoided by convention or at the risk of making errors that are sometimes difficult to identify. The name can in theory contain a very large number of characters, but this is obviously not recommended. The only special character allowed is the underscore `_`. \n",
    "- The affection operator is the equal sign (not to be confused later with the equality operator in the mathematical sense). In the expression `x=10`, the value `10` to the right of the `=` operator is assigned in memory to the variable whose name `x` is to the left.\n",
    "- An operation can then be done using the value of another variable. Thus `y=x+1` adds the value `1` to that of the variable `x` and then stores it in the variable `y`. \n",
    "- The command `print(y)` displays the content of the variable `y`."
   ]
  },
  {
   "cell_type": "code",
   "execution_count": 43,
   "metadata": {},
   "outputs": [
    {
     "name": "stdout",
     "output_type": "stream",
     "text": [
      "1: y= 11  x= 10\n"
     ]
    }
   ],
   "source": [
    "x=10\n",
    "y=x+1\n",
    "print(\"1: y=\",y,\" x=\",x)"
   ]
  },
  {
   "cell_type": "markdown",
   "metadata": {},
   "source": [
    "- In the example above, you will have noticed that the commands are executed sequentially (i.e. one after the other) from top to bottom.\n",
    "- Changing the value of a variable after it has been used does not change the values of the other variables even if they were calculated from it. \n",
    "- It is the result of the operation with the values of the different variables at the time of the operation that is assigned to the variable storing the result.\n",
    "- If you want to \"update\" the result (as a spreadsheet program does, for example), you must execute the corresponding command again, as in the example below. "
   ]
  },
  {
   "cell_type": "markdown",
   "metadata": {},
   "source": [
    "---\n",
    "**Exercice**: Execute it and check that you understand the different displays of the variables \"x\" and \"y\"."
   ]
  },
  {
   "cell_type": "code",
   "execution_count": 13,
   "metadata": {},
   "outputs": [
    {
     "name": "stdout",
     "output_type": "stream",
     "text": [
      "1: y= 11  x= 10\n",
      "2: y= 11  x= 37\n",
      "3: y= 38  x= 37\n"
     ]
    }
   ],
   "source": [
    "x=10\n",
    "y=x+1\n",
    "print(\"1: y=\",y,\" x=\",x)\n",
    "x=37\n",
    "print(\"2: y=\",y,\" x=\",x)\n",
    "y=x+1\n",
    "print(\"3: y=\",y,\" x=\",x)\n"
   ]
  },
  {
   "cell_type": "markdown",
   "metadata": {},
   "source": [
    "**Exercise :** At first, x equals to ten and y equals to x plus one so it equals to ten. Then, the value ofthe variable x changes to thirty-seven. So, x equals to thirty-seven and y still equals to eleven because eleven is already stored in the variable y so the value of y does not depend of x anymore. Finally, the value x plus one is assigned to the variable y so y equals to thirty-eight."
   ]
  },
  {
   "cell_type": "markdown",
   "metadata": {},
   "source": [
    "**Warning:** \n",
    "- The variables assigned during the previous executions of code cells are **known** from the start of the execution of a new cell, with **the last value** that was assigned to it. \n",
    "- The order of execution of the cells is then of primary importance.\n",
    "- This can lead to unexpected behavior (mispelling a variable name may not generate an error at runtime if the mispelled name is already known). \n",
    "- To start from a \"clean slate\" and an execution history that is easier to interpret, it is sometimes useful to \"restart the kernel\".\n",
    "- Concretely, doing this restarts a blank python execution environment whose memory is empty of any previous assignments. "
   ]
  },
  {
   "cell_type": "markdown",
   "metadata": {},
   "source": [
    "**Exercice**: \n",
    "- Execute the following cells"
   ]
  },
  {
   "cell_type": "code",
   "execution_count": 14,
   "metadata": {},
   "outputs": [
    {
     "name": "stdout",
     "output_type": "stream",
     "text": [
      "37 38\n"
     ]
    }
   ],
   "source": [
    "print(x,y)"
   ]
  },
  {
   "cell_type": "code",
   "execution_count": 15,
   "metadata": {},
   "outputs": [
    {
     "name": "stdout",
     "output_type": "stream",
     "text": [
      "75\n"
     ]
    }
   ],
   "source": [
    "z=2\n",
    "y=y+x\n",
    "print(y)"
   ]
  },
  {
   "cell_type": "markdown",
   "metadata": {},
   "source": [
    "- restart the kernel, and execute the next cell."
   ]
  },
  {
   "cell_type": "code",
   "execution_count": 1,
   "metadata": {},
   "outputs": [
    {
     "ename": "NameError",
     "evalue": "name 'y' is not defined",
     "output_type": "error",
     "traceback": [
      "\u001b[0;31m---------------------------------------------------------------------------\u001b[0m",
      "\u001b[0;31mNameError\u001b[0m                                 Traceback (most recent call last)",
      "\u001b[0;32m<ipython-input-1-3cef29ce12fc>\u001b[0m in \u001b[0;36m<module>\u001b[0;34m\u001b[0m\n\u001b[1;32m      1\u001b[0m \u001b[0mx\u001b[0m\u001b[0;34m=\u001b[0m\u001b[0;36m1\u001b[0m\u001b[0;34m\u001b[0m\u001b[0;34m\u001b[0m\u001b[0m\n\u001b[1;32m      2\u001b[0m \u001b[0mz\u001b[0m\u001b[0;34m=\u001b[0m\u001b[0;36m2\u001b[0m\u001b[0;34m\u001b[0m\u001b[0;34m\u001b[0m\u001b[0m\n\u001b[0;32m----> 3\u001b[0;31m \u001b[0my\u001b[0m\u001b[0;34m=\u001b[0m\u001b[0my\u001b[0m\u001b[0;34m+\u001b[0m\u001b[0mx\u001b[0m\u001b[0;34m\u001b[0m\u001b[0;34m\u001b[0m\u001b[0m\n\u001b[0m\u001b[1;32m      4\u001b[0m \u001b[0mprint\u001b[0m\u001b[0;34m(\u001b[0m\u001b[0my\u001b[0m\u001b[0;34m)\u001b[0m\u001b[0;34m\u001b[0m\u001b[0;34m\u001b[0m\u001b[0m\n",
      "\u001b[0;31mNameError\u001b[0m: name 'y' is not defined"
     ]
    }
   ],
   "source": [
    "x=1\n",
    "z=2\n",
    "y=y+x\n",
    "print(y)"
   ]
  },
  {
   "cell_type": "markdown",
   "metadata": {},
   "source": [
    "- propose a correction so that the execution does not induce any more NameError by using the variable `z`judiciously"
   ]
  },
  {
   "cell_type": "markdown",
   "metadata": {},
   "source": [
    "**Exercise :**"
   ]
  },
  {
   "cell_type": "code",
   "execution_count": 2,
   "metadata": {},
   "outputs": [
    {
     "name": "stdout",
     "output_type": "stream",
     "text": [
      "3\n"
     ]
    }
   ],
   "source": [
    "x=1\n",
    "z=2\n",
    "y=z+x    #We assign the value z plus x instead of y plus x because the variable y was not assigned to a value after restarting the kernel\n",
    "print(y)"
   ]
  },
  {
   "cell_type": "markdown",
   "metadata": {},
   "source": [
    "---"
   ]
  },
  {
   "cell_type": "markdown",
   "metadata": {},
   "source": [
    "### 2-4 Built-in Types"
   ]
  },
  {
   "cell_type": "markdown",
   "metadata": {},
   "source": [
    "- So far we have mostly used variables to store integers. Obviously, this is a special case. Python has variables of different types to store different objects or variables. \n",
    "- Python does not require that the type of a variable be imposed once and for all within an execution environment. \n",
    "- It is possible to change the type of a variable at any time by reassigning a new value to it (derived or not from the previous value).\n",
    "- the function `print(type(myvariable))` displays the type of the variable `myvariable`.\n",
    "- for numbers we will use mostly integers (type `int`) and real numbers (type `float`).\n",
    "- for some logical mathematical operations and manipulation of more complex structures like arrays, we will use boolean variables (type `bool`), whose possible values are `False` or `True` (with a capital letter).\n",
    "- for strings, there is a string type (type `str`), and it is possible to manipulate a list of variables with the `list` type.  \n"
   ]
  },
  {
   "cell_type": "markdown",
   "metadata": {},
   "source": [
    "---\n",
    "**Exercise :**  Check in separate cells the type of each of the following : `100`, `3.14159`, `x`, `False`, `\"COVID19\"`, `\"100\"`, `\"z=x+2\"`, `[1, 2, 3]`, `(1, 2, 3)`."
   ]
  },
  {
   "cell_type": "markdown",
   "metadata": {},
   "source": [
    "**Exercise :**"
   ]
  },
  {
   "cell_type": "code",
   "execution_count": 3,
   "metadata": {},
   "outputs": [
    {
     "name": "stdout",
     "output_type": "stream",
     "text": [
      "<class 'int'>\n"
     ]
    }
   ],
   "source": [
    "var = 100\n",
    "print(type(var))"
   ]
  },
  {
   "cell_type": "code",
   "execution_count": 4,
   "metadata": {},
   "outputs": [
    {
     "name": "stdout",
     "output_type": "stream",
     "text": [
      "<class 'float'>\n"
     ]
    }
   ],
   "source": [
    "var = 3.14159\n",
    "print(type(var))"
   ]
  },
  {
   "cell_type": "code",
   "execution_count": 5,
   "metadata": {},
   "outputs": [
    {
     "name": "stdout",
     "output_type": "stream",
     "text": [
      "<class 'int'>\n"
     ]
    }
   ],
   "source": [
    "var = x\n",
    "print(type(var))"
   ]
  },
  {
   "cell_type": "code",
   "execution_count": 6,
   "metadata": {},
   "outputs": [
    {
     "name": "stdout",
     "output_type": "stream",
     "text": [
      "<class 'bool'>\n"
     ]
    }
   ],
   "source": [
    "var = False\n",
    "print(type(var))"
   ]
  },
  {
   "cell_type": "code",
   "execution_count": 7,
   "metadata": {},
   "outputs": [
    {
     "name": "stdout",
     "output_type": "stream",
     "text": [
      "<class 'str'>\n"
     ]
    }
   ],
   "source": [
    "var = \"COVID19\"\n",
    "print(type(var))"
   ]
  },
  {
   "cell_type": "code",
   "execution_count": 8,
   "metadata": {
    "scrolled": true
   },
   "outputs": [
    {
     "name": "stdout",
     "output_type": "stream",
     "text": [
      "<class 'str'>\n"
     ]
    }
   ],
   "source": [
    "var = \"z=x+2\"\n",
    "print(type(var))"
   ]
  },
  {
   "cell_type": "code",
   "execution_count": 9,
   "metadata": {},
   "outputs": [
    {
     "name": "stdout",
     "output_type": "stream",
     "text": [
      "<class 'list'>\n"
     ]
    }
   ],
   "source": [
    "var = [1, 2, 3]\n",
    "print(type(var))"
   ]
  },
  {
   "cell_type": "code",
   "execution_count": 10,
   "metadata": {},
   "outputs": [
    {
     "name": "stdout",
     "output_type": "stream",
     "text": [
      "<class 'tuple'>\n"
     ]
    }
   ],
   "source": [
    "var = (1, 2, 3)\n",
    "print(type(var))"
   ]
  },
  {
   "cell_type": "markdown",
   "metadata": {},
   "source": [
    "## 3 - Lists and Strings"
   ]
  },
  {
   "cell_type": "markdown",
   "metadata": {},
   "source": [
    "### 3-1 Lists"
   ]
  },
  {
   "cell_type": "markdown",
   "metadata": {},
   "source": [
    "\n",
    "A list is an ordered sequence of elements.\n",
    "- `a=[3, 5, 7, 11, 16, 3.14159]` is a list named `a`, which contains the integers 3, 5, 7, 11,16 and the real 3.14159. They are separated by commas and enclosed in square brackets. \n",
    "- This list contains 6 elements. We can get the number of elements in a list by using the command `print(len(a))`"
   ]
  },
  {
   "cell_type": "code",
   "execution_count": 12,
   "metadata": {},
   "outputs": [
    {
     "name": "stdout",
     "output_type": "stream",
     "text": [
      "6\n"
     ]
    }
   ],
   "source": [
    "a=[3,5,7,11,16,3.14159]\n",
    "print(len(a))"
   ]
  },
  {
   "cell_type": "markdown",
   "metadata": {},
   "source": [
    "- An element can be added to a preexisting list using this syntax"
   ]
  },
  {
   "cell_type": "code",
   "execution_count": 13,
   "metadata": {},
   "outputs": [
    {
     "name": "stdout",
     "output_type": "stream",
     "text": [
      "[3, 5, 7, 11, 16, 3.14159]\n",
      "[3, 5, 7, 11, 16, 3.14159, 12]\n",
      "[3, 5, 7, 11, 16, 3.14159, 12, 8]\n"
     ]
    }
   ],
   "source": [
    "x=8\n",
    "print(a)\n",
    "a.append(12)\n",
    "print(a)\n",
    "a.append(x)\n",
    "print(a)"
   ]
  },
  {
   "cell_type": "markdown",
   "metadata": {},
   "source": [
    "- you can access the elements of a list  `a` using the index of each element between brackets. Indexes start at 0 (included) and end at `len(a)-1` (included)"
   ]
  },
  {
   "cell_type": "code",
   "execution_count": 14,
   "metadata": {},
   "outputs": [
    {
     "name": "stdout",
     "output_type": "stream",
     "text": [
      "[3, 5, 7, 11, 16, 3.14159, 12, 8]\n",
      "element of index=0 of list a 3\n",
      "element of index=5 of list a 3.14159\n"
     ]
    }
   ],
   "source": [
    "print(a)\n",
    "print(\"element of index=0 of list a\",a[0])\n",
    "print(\"element of index=5 of list a\",a[5])\n"
   ]
  },
  {
   "cell_type": "markdown",
   "metadata": {},
   "source": [
    "- indexes start at 0 and end at len(a)-1\n",
    "- it is possible to select several elements on a range of indexes, using the `:` separator. \n",
    "- `a[imin:imax]` is a list of elements with index between`imin` (included) and `imax` (excluded) the following instructions are therefore equivalent.\n",
    "- The values of `imin` and `imax` are optional"
   ]
  },
  {
   "cell_type": "code",
   "execution_count": 15,
   "metadata": {},
   "outputs": [
    {
     "name": "stdout",
     "output_type": "stream",
     "text": [
      "[3, 5, 7, 11, 16, 3.14159, 12, 8]\n",
      "[3, 5, 7, 11, 16, 3.14159, 12, 8]\n",
      "[3, 5, 7, 11, 16, 3.14159, 12, 8]\n",
      "[3, 5, 7, 11, 16, 3.14159, 12, 8]\n",
      "[3, 5, 7, 11, 16, 3.14159, 12, 8]\n"
     ]
    }
   ],
   "source": [
    "print(a)\n",
    "print(a[0:len(a)])\n",
    "print(a[:len(a)])\n",
    "print(a[0:])\n",
    "print(a[:])"
   ]
  },
  {
   "cell_type": "markdown",
   "metadata": {},
   "source": [
    "- It is also possible to create a list from two pre-existing lists using the `+` operator"
   ]
  },
  {
   "cell_type": "code",
   "execution_count": 36,
   "metadata": {},
   "outputs": [
    {
     "name": "stdout",
     "output_type": "stream",
     "text": [
      "[1, 9, 13] + [5, 7, 3, 2]\n",
      "= [1, 9, 13, 5, 7, 3, 2]\n"
     ]
    }
   ],
   "source": [
    "a=[1,9,13]\n",
    "b=[5,7,3,2]\n",
    "c=a+b\n",
    "print(a,\"+\",b)\n",
    "print(\"=\",c)"
   ]
  },
  {
   "cell_type": "markdown",
   "metadata": {},
   "source": [
    "---\n",
    "**Exercise**: \n",
    "- Create a  list `name` containing the letters of your first name\n",
    "- Create a  list `prime` containing the first 5 prime numbers\n",
    "- Display the first and last element of each of these lists with a command that will work for any list of length.\n",
    "- Displat the second and third elements using the range syntax"
   ]
  },
  {
   "cell_type": "markdown",
   "metadata": {},
   "source": [
    "**Exercise :**"
   ]
  },
  {
   "cell_type": "code",
   "execution_count": 22,
   "metadata": {},
   "outputs": [
    {
     "name": "stdout",
     "output_type": "stream",
     "text": [
      "The first and the last elements of each list are : m , m and 2 , 11 .\n",
      "The second and the third elements of each list are : y , r and 3 , 5 .\n"
     ]
    }
   ],
   "source": [
    "name = [\"m\", \"y\", \"r\", \"i\", \"a\", \"m\"]\n",
    "prime = [2, 3, 5, 7, 11]\n",
    "print(\"The first and the last elements of each list are :\", name[0], \",\", name[len(name)-1], \"and\", prime[0], \",\", prime[len(prime)-1],\".\")\n",
    "print(\"The second and the third elements of each list are :\", name[1], \",\", name[2], \"and\", prime[1], \",\", prime[2],\".\")"
   ]
  },
  {
   "cell_type": "markdown",
   "metadata": {},
   "source": [
    "---"
   ]
  },
  {
   "cell_type": "markdown",
   "metadata": {},
   "source": [
    "### 3-2 (characters) Strings"
   ]
  },
  {
   "cell_type": "markdown",
   "metadata": {},
   "source": [
    "We can indicate a character string by using either quotes (for example, \"James\") or apostrophes ('James'). \n",
    "Strings are actually a type of immutable list. It is therefore possible to access a particular character from the list by its index. "
   ]
  },
  {
   "cell_type": "markdown",
   "metadata": {},
   "source": [
    "---\n",
    "**Exercise:** Create the string `s` containing your name. Display the second element of the list (with index 1) and try to modify this last by another letter. What do you get ?"
   ]
  },
  {
   "cell_type": "markdown",
   "metadata": {},
   "source": [
    "**Exercise :**"
   ]
  },
  {
   "cell_type": "code",
   "execution_count": 23,
   "metadata": {},
   "outputs": [
    {
     "name": "stdout",
     "output_type": "stream",
     "text": [
      "A\n"
     ]
    }
   ],
   "source": [
    "s = \"MABROUKI\"\n",
    "print(s[1])"
   ]
  },
  {
   "cell_type": "code",
   "execution_count": 24,
   "metadata": {},
   "outputs": [
    {
     "ename": "TypeError",
     "evalue": "'str' object does not support item assignment",
     "output_type": "error",
     "traceback": [
      "\u001b[0;31m---------------------------------------------------------------------------\u001b[0m",
      "\u001b[0;31mTypeError\u001b[0m                                 Traceback (most recent call last)",
      "\u001b[0;32m<ipython-input-24-844a8e4649fa>\u001b[0m in \u001b[0;36m<module>\u001b[0;34m\u001b[0m\n\u001b[0;32m----> 1\u001b[0;31m \u001b[0ms\u001b[0m\u001b[0;34m[\u001b[0m\u001b[0;36m1\u001b[0m\u001b[0;34m]\u001b[0m \u001b[0;34m=\u001b[0m \u001b[0;34m\"Z\"\u001b[0m\u001b[0;34m\u001b[0m\u001b[0;34m\u001b[0m\u001b[0m\n\u001b[0m",
      "\u001b[0;31mTypeError\u001b[0m: 'str' object does not support item assignment"
     ]
    }
   ],
   "source": [
    "s[1] = \"Z\""
   ]
  },
  {
   "cell_type": "markdown",
   "metadata": {},
   "source": [
    "It is written that str object does not support item assignment, so it means strings are immutable."
   ]
  },
  {
   "cell_type": "markdown",
   "metadata": {},
   "source": [
    "---\n",
    "**Exercise:** Using the `+` operator, concatenate the strings of your first name and that of your last name preceded by a blank. Multiply (`*`) the character string of your first name by 6  "
   ]
  },
  {
   "cell_type": "code",
   "execution_count": 33,
   "metadata": {},
   "outputs": [
    {
     "name": "stdout",
     "output_type": "stream",
     "text": [
      "Myriam MABROUKI\n"
     ]
    },
    {
     "data": {
      "text/plain": [
       "'MyriamMyriamMyriamMyriamMyriamMyriam'"
      ]
     },
     "execution_count": 33,
     "metadata": {},
     "output_type": "execute_result"
    }
   ],
   "source": [
    "first_name = \"Myriam\"\n",
    "last_name = \"MABROUKI\"\n",
    "name = first_name + \" \" + last_name\n",
    "print(name)\n",
    "first_name * 6"
   ]
  }
 ],
 "metadata": {
  "celltoolbar": "Format de la Cellule Texte Brut",
  "kernelspec": {
   "display_name": "Python 3",
   "language": "python",
   "name": "python3"
  },
  "language_info": {
   "codemirror_mode": {
    "name": "ipython",
    "version": 3
   },
   "file_extension": ".py",
   "mimetype": "text/x-python",
   "name": "python",
   "nbconvert_exporter": "python",
   "pygments_lexer": "ipython3",
   "version": "3.8.10"
  }
 },
 "nbformat": 4,
 "nbformat_minor": 4
}

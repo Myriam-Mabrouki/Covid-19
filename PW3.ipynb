{
 "cells": [
  {
   "cell_type": "markdown",
   "metadata": {},
   "source": [
    "# PW 4:  Arrays, **NumPy** library "
   ]
  },
  {
   "cell_type": "markdown",
   "metadata": {},
   "source": [
    "\n",
    "\n",
    "## 1 - **NumPy** library\n",
    "\n",
    "### 1.1 - Definition\n",
    "\n",
    "- **NumPy** is a Python digital library for handling arrays. It allows you to work with the mathematical functions used with these tables. \n",
    "\n",
    "### 1.2 - Using **NumPy**\n",
    "\n",
    "- ** NumPy ** is a python library. It must be imported before it can be used. For ease of use, it will be imported under the alias `np`: \n",
    "\n",
    "```python\n",
    "import numpy as np\n",
    "```\n",
    "- This import is done only once. It is thus generally placed at the start of the program or the notebook.\n",
    "- The elements of the library (functions, constants, *etc*), are called via the keyword  `np`\n",
    "```python\n",
    "print(np.sqrt(x))\n",
    "print(np.pi)\n",
    "```\n",
    "- For a simple writing of algorithms, many mathematical functions have been implemented. For more details on the basic functions of **NumPy**, see https://docs.scipy.org/doc/numpy/reference/ufuncs.html#available-ufuncs. Some constants (like $ \\ pi $) are also defined. \n",
    "\n",
    "---\n",
    "**Exercise:** Using the features of the **NumPy** library, calculate and display:  \n",
    "- $\\pi$\n",
    "- The square root of 9.\n",
    "- the tangent of $\\pi$, sine and cosine of $\\frac{\\pi}{4}$.\n",
    "- $ e $ the base of the logarithm, the logarithm  of $ e $ and the exponential and the logarithm of 1.\n"
   ]
  },
  {
   "cell_type": "code",
   "execution_count": null,
   "metadata": {},
   "outputs": [],
   "source": []
  },
  {
   "cell_type": "markdown",
   "metadata": {},
   "source": [
    "---\n",
    "\n",
    "\n",
    "## 2 - Arrays"
   ]
  },
  {
   "cell_type": "markdown",
   "metadata": {},
   "source": [
    "- One of the main features of the **NumPy** library is the arrays creation and manipulation. \n",
    "- An array is a new type named **numpy.ndarray** defined by this library. \n",
    "- Tables are very useful tools for programming, for scientific calculation and data management:\n",
    "    - they can for example be used with the functions defined above;\n",
    "    - they can be used to store data from files;\n",
    "    - they can be used to save and read data in files. \n",
    "\n",
    "### 2.1 - Definitions\n",
    "\n",
    "Several ways exist to define a **Numpy** Array (non-exhaustive list):\n",
    "\n",
    "\n",
    "- using the `array` function. The `list` from which the array is taken, is one of the arguments.\n",
    "```python\n",
    "lis = [1, 2, 3]\n",
    "tab = np.array(lis)\n",
    "# or, more directly, \n",
    "tab = np.array([1, 2, 3])\n",
    "```\n",
    "- using the function `zeros` or `ones`. The **integer** representing the number of elements of the array (its length) is given as an argument.\n",
    "```python\n",
    "np.zeros(20)\n",
    "np.ones(20)\n",
    "```\n",
    "- using the function  `arange`. The starting value `N1`(included), the end value` N2`(excluded) and the step `p`, which can be integer or real, are given as arguments.\n",
    "```Python\n",
    "tab = np.arange(N1, N2, p) \n",
    "```\n",
    "- `N1` and `p` are optional and will default to 0 and 1, respectively, if not given. Otherwise you will have to specify these values. For an array starting with `2` and ending with` N2` (excluded value) with a step of `2`, for example, we will have: \n",
    "```Python\n",
    "tab = np.arange(2, N2, 2)\n",
    "```\n",
    "\n",
    "---\n",
    "**Exercises:** Execute the different cells and create a markdown cell below to explain the functionnality and what the short code is doing:\n",
    "\n"
   ]
  },
  {
   "cell_type": "code",
   "execution_count": 2,
   "metadata": {},
   "outputs": [
    {
     "name": "stdout",
     "output_type": "stream",
     "text": [
      "lis1 = [6, 7, 8, 9, 10]\n",
      "a1 = [ 6  7  8  9 10]\n"
     ]
    }
   ],
   "source": [
    "lis1 = [6, 7, 8, 9, 10]\n",
    "print(\"lis1 =\", lis1)\n",
    "a1 = np.array(lis1)\n",
    "print(\"a1 =\",a1)"
   ]
  },
  {
   "cell_type": "code",
   "execution_count": 3,
   "metadata": {},
   "outputs": [
    {
     "name": "stdout",
     "output_type": "stream",
     "text": [
      "a2 = [1 2 3 4 5]\n"
     ]
    }
   ],
   "source": [
    "a2 = np.array([1, 2, 3, 4, 5])\n",
    "print(\"a2 =\", a2)"
   ]
  },
  {
   "cell_type": "code",
   "execution_count": 4,
   "metadata": {},
   "outputs": [
    {
     "name": "stdout",
     "output_type": "stream",
     "text": [
      "a3 = [ True  True False]\n"
     ]
    }
   ],
   "source": [
    "a3 = np.array([True, True, False])\n",
    "print(\"a3 =\", a3)"
   ]
  },
  {
   "cell_type": "code",
   "execution_count": 5,
   "metadata": {},
   "outputs": [
    {
     "name": "stdout",
     "output_type": "stream",
     "text": [
      "a4 = [0. 0. 0. 0. 0. 0. 0. 0. 0. 0. 0. 0. 0. 0. 0. 0. 0. 0. 0. 0.]\n"
     ]
    }
   ],
   "source": [
    "a4 = np.zeros(20)\n",
    "print(\"a4 =\", a4)"
   ]
  },
  {
   "cell_type": "code",
   "execution_count": 6,
   "metadata": {},
   "outputs": [
    {
     "name": "stdout",
     "output_type": "stream",
     "text": [
      "a5 = [1. 1. 1. 1. 1. 1. 1. 1. 1. 1. 1. 1. 1. 1. 1. 1. 1. 1. 1. 1. 1. 1. 1. 1.\n",
      " 1. 1. 1. 1. 1. 1. 1. 1. 1. 1. 1. 1. 1. 1. 1. 1. 1. 1. 1. 1. 1. 1. 1. 1.\n",
      " 1. 1. 1. 1. 1. 1. 1. 1. 1. 1. 1. 1. 1. 1. 1. 1. 1. 1. 1. 1. 1. 1. 1. 1.\n",
      " 1. 1. 1. 1. 1. 1. 1. 1. 1. 1. 1. 1. 1. 1. 1. 1. 1. 1. 1. 1. 1. 1. 1. 1.\n",
      " 1. 1. 1. 1.]\n"
     ]
    }
   ],
   "source": [
    "a5 = np.ones(100)\n",
    "print(\"a5 =\", a5)"
   ]
  },
  {
   "cell_type": "code",
   "execution_count": 7,
   "metadata": {},
   "outputs": [
    {
     "name": "stdout",
     "output_type": "stream",
     "text": [
      "a6 = [ 0  1  2  3  4  5  6  7  8  9 10]\n"
     ]
    }
   ],
   "source": [
    "a6 = np.arange(11)\n",
    "print(\"a6 =\", a6)"
   ]
  },
  {
   "cell_type": "code",
   "execution_count": 8,
   "metadata": {},
   "outputs": [
    {
     "name": "stdout",
     "output_type": "stream",
     "text": [
      "a7 = [0.  0.2 0.4 0.6 0.8]\n"
     ]
    }
   ],
   "source": [
    "a7 = np.arange(0, 1, 0.2)\n",
    "print(\"a7 =\", a7)"
   ]
  },
  {
   "cell_type": "markdown",
   "metadata": {},
   "source": [
    "---\n",
    "\n",
    "### 2.2 - Operations\n",
    "\n",
    "- One of the great advantages of **NumPy** is that the functions presented in section 1 are applicable to arrays. We can thus apply the function on the array as a whole rather than element by element.\n",
    "- The result returned by the function is itself an array of the same length as the argument array of the function. The values in this array are the results of the operation on each of the elements,row by row.\n",
    "- The usual operations (addition, subtraction, multiplication, etc.) are also applicable to tables. \n",
    "\n",
    "---\n",
    "**Exercises:** Execute the different cells and create a markdown cell below to explain the functionnality and what the short code is doing:\n"
   ]
  },
  {
   "cell_type": "code",
   "execution_count": 4,
   "metadata": {},
   "outputs": [
    {
     "name": "stdout",
     "output_type": "stream",
     "text": [
      "b1 = [4. 4. 4. 4. 4.]\n"
     ]
    }
   ],
   "source": [
    "b1 = 4 * np.ones(5)\n",
    "print(\"b1 =\", b1)"
   ]
  },
  {
   "cell_type": "code",
   "execution_count": 5,
   "metadata": {},
   "outputs": [
    {
     "name": "stdout",
     "output_type": "stream",
     "text": [
      "b2 = [2. 2. 2. 2. 2.]\n"
     ]
    }
   ],
   "source": [
    "b2 = np.sqrt(b1)\n",
    "print(\"b2 =\", b2)"
   ]
  },
  {
   "cell_type": "code",
   "execution_count": 6,
   "metadata": {},
   "outputs": [
    {
     "name": "stdout",
     "output_type": "stream",
     "text": [
      "b3 = [6. 6. 6. 6. 6.]\n"
     ]
    }
   ],
   "source": [
    "b3 = b1 + b2\n",
    "print(\"b3 =\", b3)"
   ]
  },
  {
   "cell_type": "code",
   "execution_count": 7,
   "metadata": {},
   "outputs": [
    {
     "name": "stdout",
     "output_type": "stream",
     "text": [
      "b4 = [8. 8. 8. 8. 8.]\n"
     ]
    }
   ],
   "source": [
    "b4 = b1 * b2\n",
    "print(\"b4 =\", b4)"
   ]
  },
  {
   "cell_type": "markdown",
   "metadata": {},
   "source": [
    "---\n",
    "\n",
    "### 2.3 - Input / output file \n",
    "\n",
    "- It is possible to save an array **NumPy** in a binary file with the extension **.npy**. Conversely, the content of files with the **.npy** extension can be read and stored in **NumPy** arrays. For these operations, the `save` and` load` functions are used. \n",
    "```python\n",
    "np.save(\"name.npy\",array1)\n",
    "array2 = np.load(\"name.npy\")\n",
    "```\n",
    "---\n",
    "**Exercise:** \n",
    "- save the array `b4` in a file caled **temp.npy**\n",
    "- load and display **temp.npy** in an array `b5`\n",
    "- Check the presence of the file thus created in the Jupyterlab file browser (the left column). Be careful, do not try to open this binary file directly by clicking on it! "
   ]
  },
  {
   "cell_type": "code",
   "execution_count": null,
   "metadata": {},
   "outputs": [],
   "source": []
  },
  {
   "cell_type": "markdown",
   "metadata": {},
   "source": [
    "- Although the binary format is more efficient for storing large arrays, it is actually often more convenient, if the size of the tables is reasonable, to save them in text format.\n",
    "- As for the binary, the **NumPy** library offers a function for writing a file in text format `savetxt` and one for reading` loadtxt`.\n",
    "- The file extension used in this case is usually **.txt** or **.dat**.\n",
    "\n",
    "---\n",
    "**Exercise:** Repeat the previous exercise but this time using the text format (with the file extension **.txt**). "
   ]
  },
  {
   "cell_type": "code",
   "execution_count": null,
   "metadata": {},
   "outputs": [],
   "source": []
  },
  {
   "cell_type": "markdown",
   "metadata": {},
   "source": [
    "### 2.4 - Two-dimensional arrays\n",
    "\n",
    "The ** NumPy ** library also allows you to handle 2-dimensional arrays. Note: there are matrix type variables, `numpy.matrix`, which should not be confused with these arrays. \n",
    "The method of creating 2-dimensional arrays is very similar to that of one-dimensional arrays. The same function -`array` - is used, only the arguments are different. \n",
    "- For a n rows and p columns array, it is necessary to give as argument of the function `array` a list of n lists, each of length p. This is an example fo an array of 2 rows and 3 colums. Pay attention to the succession `([ [ ],[ ] ])`. The order is always the same; **the number (or index) of rows first, the number (or index) of column, second**.\n",
    "\n",
    "```python\n",
    "pi=np.pi\n",
    "neper=np.e\n",
    "arr1 = np.array([[1, 2, 3], [pi, neper, 7]])\n",
    "```\n",
    "- with the `zeros` or` ones` functions, the argument is a list that contains the number of rows and the number of columns (in that order). \n",
    "```python\n",
    "dim = [20, 10]\n",
    "arr2 = np.zeros(dim)\n",
    "arr3 = np.ones(dim)\n",
    "```\n",
    "- The `reshape` function allows you to reorganise the display of the elements of an array by varying its dimensions. The `reshape`'s arguments are: the array to modify, the list of dimensions of the new array. \n",
    "``` Python\n",
    "arr4 = np.zeros(200)\n",
    "dim = [20, 10]\n",
    "arr5 = np.reshape(arr4, dim) \n",
    "```\n",
    "- `reshape` considers that all the elements of the array form a single sequence which is broken down into pieces of length the number of columns. The total number of elements remains constant. \n",
    "\n",
    "---\n",
    "**Exercises:** In different cells:\n",
    "- Create an array `c1` with 3 rows and 4 columns using the function` array` and a list. Display them.\n",
    "- Create an array with 3 rows and 2 columns in a variable `c2` using the` zeros` function. Display it.\n",
    "- Transform the previous 2 arrays respectively into a `c3` array with 4 rows and 3 columns and a ` c4` with two rows and three columns. Display them. Can we transform `c1` into an array with two lines and three columns? "
   ]
  },
  {
   "cell_type": "code",
   "execution_count": null,
   "metadata": {},
   "outputs": [],
   "source": []
  },
  {
   "cell_type": "markdown",
   "metadata": {},
   "source": [
    "### 2.5 - Random numbers\n",
    "\n",
    "- The NumPy library is equiped with a random number generator, a sub-library of NumPy, called **random**. It allows you to draw numbers randomly according to certain distributions. Several functions can be used, the main ones being:\n",
    "    - **randint** which allows to draw N integers between 2 limits (the upper limit being excluded).\n",
    "    - **random** which allows to draw N reals between 0 (included) and 1 (excluded).\n",
    "    - **uniform** which allows to draw N real values between 2 limits (the upper limit being excluded).\n",
    "```python\n",
    "arr4 = np.random.randint(lowerbound, upperbound, N)\n",
    "arr5 = np.random.random(N)\n",
    "arr6 = np.random.uniform(lowerbound, upperbound, N)\n",
    "```\n",
    "\n",
    "\n",
    "- If the number `N` is given as a list of two integers, ** NumPy ** generates a two-dimensional array of lengths corresponding to the values in the list. \n",
    "```python\n",
    "arr7 = np.random.randint(lowerbound, upperbound, [3, 4])\n",
    "```\n",
    "\n",
    "\n",
    "- For more information on the module  **random**, see https://docs.scipy.org/doc/numpy-1.14.0/reference/routines.random.html\n",
    "\n",
    "---\n",
    "**Exercises:**\n",
    "- create and display an array `ran1` of 10 random reals between 0 included and 1 excluded.\n",
    "- create and display an array `ran2` of 10 real numbers between 0 included and 100 excluded.\n",
    "- create and display a two-dimensional `ran3` array of 5$\\times$5 integers between 0 inclusive and 100 excluded.\n",
    "\n",
    "*Note : run cells multiple times and see the value changes.*"
   ]
  },
  {
   "cell_type": "code",
   "execution_count": null,
   "metadata": {},
   "outputs": [],
   "source": []
  },
  {
   "cell_type": "markdown",
   "metadata": {},
   "source": [
    "---\n",
    "\n",
    "### 2.6 Indexing arrays\n",
    "\n",
    "- An element of index `i` of an one dimensional **NumPy** array is selected by writing the name of the array followed by the index of the element enclosed in square brackets. \n",
    "\n",
    "- It is also possible to extract a sub-array included between the indices `i1` (included) and` i2` (excluded) by separating them with `:`.\n",
    "    - By default, if no value of `i1` is given, it is set to the value 0. If no value for` i2` is given, it is set by default to the length of the array.\n",
    "    - - The last value of the array can be indexed with the index -1, the penultimate with -2 and so on.\n",
    "```Python\n",
    "print(arr[0]) # displays the first element of an array\n",
    "print(arr[i1:i2]) # displays elements between indices i1 (included) and i2 (excluded)\n",
    "print(arr[:i2]) # displays elements between indices 0 (included) and i2 (excluded)\n",
    "print(arr[i1:]) # displays all array elements from index i1 (included) and above\n",
    "```\n",
    "\n",
    "---\n",
    "**Exercise:** Define an array of 10 integers of your choice `d1`. Display different sub array for different values of i1 and i2 (including -1 and -2). What is the equivalent of the statement: `` print (d1 [:]) `` (answer in a cell). \n"
   ]
  },
  {
   "cell_type": "markdown",
   "metadata": {},
   "source": [
    "---\n",
    "- It is also possible to index 2-dimensional arrays following the same principle.\n",
    "- The indexation by dimension is then separated by a `,`\n",
    "-  we also indicate to take all the elements of a row or a column with `:`. \n",
    "```Python\n",
    "tab_2d[l1, c1] # displays the element at the intersection of the row with indexs l1 and the column with index c1 \n",
    "tab_2d[l1:l2, c1:c2] # displays the sub-array between the lines l1 (included) and l2 (excluded) and the columns c1 (included) and c2 (excluded) \n",
    "tab_2d[l1, :] # displays all the columns of the index row l1 \n",
    "tab_2d[:, c1] # displays all the rows of the column with index c1. \n",
    "```\n",
    "---\n",
    "\n",
    "**Exercise:**\n",
    "- Display the second element of the third row of the array `ran3`.\n",
    "- Display the antepenultimate row of the array `ran3`.\n",
    "- Display the antepenultimate column of the `ran3` table.\n",
    "- Store and display a variable `d2` the two-dimensional array corresponding to the last two rows and last two columns of the array` ran3`.\n"
   ]
  },
  {
   "cell_type": "code",
   "execution_count": null,
   "metadata": {},
   "outputs": [],
   "source": []
  },
  {
   "cell_type": "markdown",
   "metadata": {},
   "source": [
    "---\n",
    "\n",
    "### 2.7 Arrays manipulation \n",
    "- The library **NumPy** proposes a set of functions acting directly on the totality of a table (with 1 or more dimensions.\n",
    "\n",
    "- Sum and product:\n",
    "     - The `sum` and `prod` functions. They take an array as argument and calculate and return the sum and the product of its elements, respectively.\n",
    "     - In the case of a two-dimensional array, it is possible to pass the optional argument `axis` which will take the value 0 to calculate the sum (or the product, depending on the function used) of the rows, and 1 to perform the calculations on the columns. \n",
    "     \n",
    "     Example:\n",
    "``` Python\n",
    "np.sum (array, axis = 0)\n",
    "```     \n",
    "---\n",
    "**Exercise:**\n",
    "Execute the different cells and create a markdown cell below to explain the functionnality and what the short code is doing:\n"
   ]
  },
  {
   "cell_type": "code",
   "execution_count": 24,
   "metadata": {},
   "outputs": [
    {
     "name": "stdout",
     "output_type": "stream",
     "text": [
      "55\n",
      "3628800\n"
     ]
    }
   ],
   "source": [
    "m1 = np.arange(1, 11)\n",
    "print(np.sum(m1))\n",
    "print(np.prod(m1))"
   ]
  },
  {
   "cell_type": "code",
   "execution_count": 25,
   "metadata": {},
   "outputs": [
    {
     "name": "stdout",
     "output_type": "stream",
     "text": [
      "[[ 0  1  2  3  4]\n",
      " [ 5  6  7  8  9]\n",
      " [10 11 12 13 14]]\n",
      "[15 18 21 24 27]\n",
      "[10 35 60]\n",
      "105\n"
     ]
    }
   ],
   "source": [
    "m2 = np.arange(15)\n",
    "m2 = np.reshape(m2, [3, 5])\n",
    "print(m2)\n",
    "print(np.sum(m2, axis=0))\n",
    "print(np.sum(m2, axis=1))\n",
    "print(np.sum(m2))"
   ]
  },
  {
   "cell_type": "code",
   "execution_count": null,
   "metadata": {},
   "outputs": [],
   "source": []
  },
  {
   "cell_type": "markdown",
   "metadata": {},
   "source": [
    "---"
   ]
  }
 ],
 "metadata": {
  "kernelspec": {
   "display_name": "Python 3",
   "language": "python",
   "name": "python3"
  },
  "language_info": {
   "codemirror_mode": {
    "name": "ipython",
    "version": 3
   },
   "file_extension": ".py",
   "mimetype": "text/x-python",
   "name": "python",
   "nbconvert_exporter": "python",
   "pygments_lexer": "ipython3",
   "version": "3.6.9"
  }
 },
 "nbformat": 4,
 "nbformat_minor": 4
}

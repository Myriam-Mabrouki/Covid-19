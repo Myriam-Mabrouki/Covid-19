{
 "cells": [
  {
   "cell_type": "markdown",
   "metadata": {},
   "source": [
    "# PW 5 : Statistics"
   ]
  },
  {
   "cell_type": "markdown",
   "metadata": {},
   "source": [
    "## 1 - Introduction"
   ]
  },
  {
   "cell_type": "markdown",
   "metadata": {},
   "source": [
    "We will use the `numpy` and `matplotlib` libraries to simulate and analyze experimental data using statistical functions, and plot them.\n",
    "\n",
    "Import the `numpy` and `matplotlib.pyplot` libraries with appropriate aliases."
   ]
  },
  {
   "cell_type": "code",
   "execution_count": null,
   "metadata": {},
   "outputs": [],
   "source": []
  },
  {
   "cell_type": "markdown",
   "metadata": {},
   "source": [
    "---\n",
    "## 2 - Experimental mean, standard deviation, confidence interval"
   ]
  },
  {
   "cell_type": "markdown",
   "metadata": {},
   "source": [
    "### 2.1 Experimental mean\n",
    "\n",
    "The **mean** of a list of values `x = (x[1],...,x[n])` is the number :\n",
    "\n",
    "$$\n",
    "M(x) = \\frac 1n \\sum_{i=1}^n x_i\n",
    "$$\n",
    "\n",
    "If `x` is represented in python by an array, the mean `Mx=M(x)` is obtained directly using the `mean` function of the `numpy` library:\n",
    "\n",
    "```Python\n",
    "Mx = np.mean(x)\n",
    "```\n",
    "\n",
    "When the list of numbers `x = (x[1],...,x[n])` follows a probability distribution `X`, we expect the mean value to approach a theoretical value called **the expectation** of `X`, denoted `E(X)`\n",
    "\n",
    "For example, when numbers `x = (x[1],...,x[n])` are drawn at random according to a uniform probability law `X` in a given interval `[a,b]`, we expect the mean value `M(x)` to be close to the expectation `E(X) = (a+b)/2`."
   ]
  },
  {
   "cell_type": "markdown",
   "metadata": {},
   "source": [
    " ### Exercise 1, question 1:\n",
    "\n",
    "Generate an array `x` of 20 numbers drawn uniformly at random in the interval `[0,100]` (cf. PW4 §4.1) and then compute and display the average `Mx = M(x)`."
   ]
  },
  {
   "cell_type": "code",
   "execution_count": null,
   "metadata": {},
   "outputs": [],
   "source": []
  },
  {
   "cell_type": "markdown",
   "metadata": {},
   "source": [
    "### Comment:\n",
    "\n",
    "We note that the experimental mean of a random draw is not equal to the expectation. \n",
    "\n",
    "Expectation and mean are often confused: in fact, expectation is a value intrinsically linked to the phenomenon studied, and the experimental mean is a value computed from experimental data (which are sometimes few and contain errors). When a phenomenon is not well known, the computation of the experimental mean allows to have an approximate value of the expectation. The mean is therefore what we call an **estimator** of the expectation."
   ]
  },
  {
   "cell_type": "markdown",
   "metadata": {},
   "source": [
    "### Continued from exercise 1, question 2:\n",
    "\n",
    "Run the following code and comment on the result. (**Answer in a new cell.)**\n",
    "- Explain in particular what are the numbers in the table named `Mxs`.\n",
    "- Also explain what the figure produced represents."
   ]
  },
  {
   "cell_type": "code",
   "execution_count": null,
   "metadata": {},
   "outputs": [],
   "source": [
    "N = 20\n",
    "Mxs = []\n",
    "for i in range(100):\n",
    "    x = np.random.uniform (0, 100 , N)\n",
    "    Mx = np.mean(x)\n",
    "    Mxs.append( Mx )\n",
    "plt.figure()\n",
    "plt.hist(Mxs,bins=40,range=[30,70])\n",
    "plt.show()"
   ]
  },
  {
   "cell_type": "markdown",
   "metadata": {},
   "source": [
    "### Continued from exercise 1, question 3:\n",
    "\n",
    "1. Reproduce and execute the above code taking `N=100` and `N=1000` and `N=10000`.\n",
    "1. Comment on the result. **(Answer in a new cell)**\n",
    "1. Under what condition(s) does the experimental mean seem a good estimator of the expectation?"
   ]
  },
  {
   "cell_type": "code",
   "execution_count": null,
   "metadata": {},
   "outputs": [],
   "source": []
  },
  {
   "cell_type": "markdown",
   "metadata": {},
   "source": [
    "### 2.2 Experimental standard deviation and confidence interval\n",
    "\n",
    "We now take a closer look at the difference between the experimental mean and the expectation.\n",
    "\n",
    "Here again, we only have the data from the experiment. From these data we compute what we call the **experimental standard deviation**, which is the **average** distance between the data and the experimental mean. The standard deviation is given by the formula :\n",
    "\n",
    "$$\n",
    "\\sigma(X) = \\sqrt{ \\frac 1n \\sum_{i=1}^n \\bigl( x_i - M(X) \\bigr)^2 }\n",
    "$$\n",
    "\n",
    "Probability theory tells us that\n",
    "\n",
    "$$\n",
    "\\mathbb P\\left( \\bigl|\\, M(X) - E(X) \\,\\bigr|\\, \\leq \\frac {1.96\\, \\sigma(X)}{\\sqrt n} \\right) \\geq 0.95\n",
    "$$\n",
    "\n",
    "We then establish a **confidence interval** centered on the expectation `M(X)`:\n",
    "\n",
    "$$\n",
    "\\left[ \\ M(X) - \\frac {1.96\\, \\sigma(X)}{\\sqrt n} \\ ; \\ M(X) + \\frac {1.96\\, \\sigma(X)}{\\sqrt n} \\ \\right]\n",
    "$$\n",
    "\n",
    "and we know **with a probability of 95%** that the expectation is in this interval.\n",
    "\n",
    "### Notes:\n",
    "\n",
    "- The values 0.95 and 1.96 given above are independent of the data in the experiment and are the result of probability theory.\n",
    "- The confidence interval can be reduced by replacing 1.96 by 1.645 in the formula, but then the probability that it contains the expectation is only 90%.\n",
    "- Like the expectation, there is a value of the standard deviation intrinsically linked to the phenomenon studied, and the experimental standard deviation is an estimator of this one."
   ]
  },
  {
   "cell_type": "markdown",
   "metadata": {},
   "source": [
    "### Continued from exercise 1, question 4:\n",
    "\n",
    "1. Compute and display using python the experimental means, standard deviations, and confidence intervals for the following four random draws.\n",
    "\n",
    "```Python\n",
    "    x1 = np.random.uniform (0, 100 , 20)\n",
    "    x2 = np.random.uniform (0, 100 , 100)\n",
    "    x3 = np.random.uniform (0, 100 , 1000)\n",
    "    x4 = np.random.uniform (0, 100 , 10000)\n",
    "```\n",
    "\n",
    "2. What do you notice about the value of the standard deviation? (**Answer in a new cell.**)\n",
    "3. Is the confidence interval consistent with what we expect from the results of questions 2 and 3?\n",
    "4. Is it possible that the expectation does not belong to the confidence interval?\n",
    "\n",
    "### Notes:\n",
    "\n",
    "- To compute the standard deviation `sigma_x` of an array of numbers `x`, use the `std` function from the `numpy` library:\n",
    "```Python\n",
    "    sigma_x = np.std(x)\n",
    "```\n",
    "- To compute the square root of a number `N`, use the `sqrt` function from the `numpy` library.\n",
    "```Python\n",
    "    np.sqrt(N)\n",
    "```"
   ]
  },
  {
   "cell_type": "code",
   "execution_count": null,
   "metadata": {},
   "outputs": [],
   "source": []
  },
  {
   "cell_type": "markdown",
   "metadata": {},
   "source": [
    "---\n",
    "\n",
    "## 3 - Central Limit Theorem"
   ]
  },
  {
   "cell_type": "markdown",
   "metadata": {},
   "source": [
    "This theorem states that a sum of independent random variables can be approximated by a Gaussian random variable (also called 'normal').\n",
    "\n",
    "We will verify this on a simple example where `X1`, `X2` and `X3` follow uniform probability laws and `Y = X1 + X2 + X3`."
   ]
  },
  {
   "cell_type": "markdown",
   "metadata": {},
   "source": [
    "### Exercise 2, question 1:\n",
    "\n",
    "1. Set `N = 1000`.\n",
    "2. Generate three arrays `x1` `x2` and `x3` of `N` numbers each, drawn uniformly at random in the interval `[-1,1]`\n",
    "3. Compute the three arrays of numbers `y1 = x1`, `y2 = x1 + x2` and `y3 = x1 + x2 + x3`.\n",
    "4. Plot on the same figure the histograms of the tables `y1`, `y2` and `y3`.\n",
    "    - Plot the histograms with the options `bins=40, range=[-4,4], density=True, histtype='step'`.\n",
    "    - Add a legend to identify the three histograms (see PW4, §3.5).\n",
    "    "
   ]
  },
  {
   "cell_type": "code",
   "execution_count": null,
   "metadata": {},
   "outputs": [],
   "source": []
  },
  {
   "cell_type": "markdown",
   "metadata": {},
   "source": [
    "### Continued from exercise 2, question 2:\n",
    "\n",
    "1. Compute the means and standard deviations of the arrays of numbers `x1`, `x2`, `x3` and `y3` and check the relations:\n",
    "\n",
    "$$\n",
    "M(y_3) = M(x_1) + M(x_2) + M(x_3)\n",
    "\\quad\n",
    "\\mathrm{and}\n",
    "\\quad\n",
    "\\sigma (y_3)^2 \\simeq \\sigma (x_1)^2 + \\sigma (x_2)^2 + \\sigma (x_3)^2\n",
    "$$\n",
    "\n",
    "2. The theory says that the standard deviation of a sum of random variables checks the exact equality below. Can you explain why this is not the case here? (**answer in a new cell**)\n",
    "\n",
    "$$\n",
    "\\sigma (Y_3)^2 = \\sigma (X_1)^2 + \\sigma (X_2)^2 + \\sigma (X_3)^2\n",
    "$$"
   ]
  },
  {
   "cell_type": "code",
   "execution_count": null,
   "metadata": {},
   "outputs": [],
   "source": []
  },
  {
   "cell_type": "markdown",
   "metadata": {},
   "source": [
    "### Continued from exercise 2, question 3:\n",
    "\n",
    "1. Generate an array `y4` of `N` numbers, drawn randomly according to the Gaussian distribution with mean and standard deviation those of `y3` computed above.\n",
    "2. Plot on the same figure the histograms of the tables of numbers `y3` and `y4`.\n",
    "\n",
    "    - Plot the histograms with the options `bins=40, range=[-4,4], density=True, histtype='step'`.\n",
    "    - Add a legend to identify the two histograms.\n",
    "\n",
    "\n",
    "3. Does the Gaussian distribution `Y4` seem to you to be a good approximation of the sum of the three uniform distributions `Y3 = X1 + X2 + X3` ? (**Answer in a new cell.**)\n",
    "\n",
    "### Note:\n",
    "\n",
    "To generate a list `x` of `N` numbers drawn randomly according to the Gaussian distribution with mean `M` and standard deviation `Sigma` use the `random.normal` function from the `numpy` library:\n",
    "```Python\n",
    "x = np.random.normal(M, Sigma ,N)\n",
    "```"
   ]
  },
  {
   "cell_type": "code",
   "execution_count": null,
   "metadata": {},
   "outputs": [],
   "source": []
  },
  {
   "cell_type": "markdown",
   "metadata": {},
   "source": [
    "---\n",
    "\n",
    "## 4 - Analysis of real data"
   ]
  },
  {
   "cell_type": "markdown",
   "metadata": {},
   "source": [
    "In the previous exercise, a large amount of data was voluntarily taken to test the correspondence of the sum of three uniform distributions and a Gaussian distribution, but the experimental data are often less numerous.\n",
    "\n",
    "We will therefore treat an example with *'real'* data.\n",
    "\n",
    "The following tables contain readings of maximum and minimum temperatures (°C) during the day, taken over a period of one hundred years, at a given weather station, on a fixed day of the year."
   ]
  },
  {
   "cell_type": "code",
   "execution_count": null,
   "metadata": {},
   "outputs": [],
   "source": [
    "N=100\n",
    "year = range(N)\n",
    "temp_min = [\n",
    "    16.2, 14.3, 15.3, 14.9, 15.7, 16.6, 14.4, 15.5, 15.3, 18.5,\n",
    "    11.6, 8.40, 12.8, 14.3, 16.3, 14.0, 11.4, 14.4, 15.0, 12.4,\n",
    "    14.2, 12.6, 16.6, 17.3, 14.9, 16.0, 13.3, 16.4, 15.0, 16.5,\n",
    "    16.9, 15.8, 17.1, 17.3, 10.6, 14.6, 14.1, 13.8, 13.1, 16.1,\n",
    "    12.1, 16.0, 13.6, 19.8, 16.0, 14.0, 14.2, 16.5, 12.5, 17.3,\n",
    "    13.2, 15.1, 18.4, 14.3, 13.7, 13.0, 11.5, 12.6, 13.5, 13.7,\n",
    "    10.7, 16.0, 17.2, 17.6, 15.8, 15.7, 15.2, 13.9, 19.2, 19.3,\n",
    "    21.5, 16.4, 15.7, 13.9, 18.5, 16.3, 15.9, 14.4, 12.3, 14.5,\n",
    "    13.4, 16.2, 13.2, 17.3, 17.0, 15.3, 20.3, 12.6, 12.4, 19.6,\n",
    "    15.3, 15.5, 13.4, 23.3, 17.8, 19.4, 18.0, 16.5, 18.3, 17.4,\n",
    "]\n",
    "temp_max = [\n",
    "    26.3, 29.3, 27.3, 26.6, 24.5, 26.5, 22.8, 23.5, 28.7, 31.2,\n",
    "    20.8, 23.2, 19.4, 24.2, 28.4, 20.7, 21.7, 21.5, 26.0, 22.4,\n",
    "    22.5, 25.7, 25.2, 25.3, 22.9, 25.8, 21.2, 33.4, 22.4, 29.8,\n",
    "    27.7, 26.2, 28.7, 22.8, 22.5, 17.3, 19.6, 20.7, 21.3, 30.6,\n",
    "    19.5, 20.6, 21.9, 30.6, 23.0, 20.0, 16.3, 27.3, 23.3, 28.6,\n",
    "    22.8, 26.9, 26.2, 20.3, 26.8, 24.0, 19.2, 21.2, 21.6, 20.1,\n",
    "    22.2, 21.8, 21.0, 30.2, 27.7, 26.5, 24.8, 20.1, 26.9, 31.5,\n",
    "    32.6, 27.9, 24.3, 22.7, 30.4, 22.8, 32.3, 27.2, 27.0, 20.7,\n",
    "    25.2, 29.4, 24.0, 27.7, 31.4, 23.7, 32.1, 23.1, 25.7, 30.0,\n",
    "    25.8, 22.1, 24.7, 35.0, 23.7, 27.7, 28.0, 21.9, 27.9, 27.2,\n",
    "]"
   ]
  },
  {
   "cell_type": "markdown",
   "metadata": {},
   "source": [
    "### Exercise 3, question 1:\n",
    "\n",
    "1. Plot the graphs of these readings with the year on the x-axis and the temperatures on the y-axis.\n",
    "2. Minimum temperature: in blue.\n",
    "3. Maximum temperature: in red.\n",
    "4. Add a legend to identify the two graphs.\n",
    "5. Add a name to each axis that indicates the nature of the data."
   ]
  },
  {
   "cell_type": "code",
   "execution_count": null,
   "metadata": {},
   "outputs": [],
   "source": []
  },
  {
   "cell_type": "markdown",
   "metadata": {},
   "source": [
    "### Continued from exercise 3, question 2:\n",
    "\n",
    "1. Compute the mean `mean_min` and standard deviation `sigma_min` of the minimum temperature table.\n",
    "2. Generate a `simulation_min` table using a random draw of `N=100` numbers, following the Gaussian distribution with mean and standard deviation those of minimum temperature table computed above.\n",
    "3. Plot on the same figure, the two following histograms with the options `bins=20,range=[0,40]`:\n",
    "\n",
    "    - the histogram of the actual readings with the options `histtype='bar', color='blue'` \n",
    "    - the histogram of the random draw with the options `histtype='step', linewidth=3, color='orange'`\n",
    "    - Add a legend to identify the two graphs.\n",
    "    - Add a name to each axis that indicates the nature of the data.\n",
    "\n",
    "\n",
    "4. Do you think that the Gaussian approximation is a good estimate of the distribution of observed temperatures? (**Answer in a new cell.**)"
   ]
  },
  {
   "cell_type": "code",
   "execution_count": null,
   "metadata": {},
   "outputs": [],
   "source": []
  },
  {
   "cell_type": "markdown",
   "metadata": {},
   "source": [
    "### Continued from exercise 3, question 3:\n",
    "\n",
    "1. Do the same with the maximum temperature table, using red for the actual reading and green for the simulation. \n",
    "2. Do you think the Gaussian approximation is a good estimate of the distribution of observed temperatures? (**Answer in a new cell.**)"
   ]
  },
  {
   "cell_type": "code",
   "execution_count": null,
   "metadata": {},
   "outputs": [],
   "source": []
  },
  {
   "cell_type": "markdown",
   "metadata": {},
   "source": [
    "### Continued from exercise 3, question 4:\n",
    "\n",
    "Combine the two previous figures into a single figure, making sure that the graphs of the two simulations remain clearly visible and are not covered by the graphs of the readings."
   ]
  },
  {
   "cell_type": "code",
   "execution_count": null,
   "metadata": {},
   "outputs": [],
   "source": []
  }
 ],
 "metadata": {
  "kernelspec": {
   "display_name": "Python 3",
   "language": "python",
   "name": "python3"
  },
  "language_info": {
   "codemirror_mode": {
    "name": "ipython",
    "version": 3
   },
   "file_extension": ".py",
   "mimetype": "text/x-python",
   "name": "python",
   "nbconvert_exporter": "python",
   "pygments_lexer": "ipython3",
   "version": "3.6.9"
  },
  "widgets": {
   "application/vnd.jupyter.widget-state+json": {
    "state": {
     "39fba40e66f34d7c9c9e4be827baadae": {
      "model_module": "@jupyter-widgets/base",
      "model_module_version": "1.2.0",
      "model_name": "LayoutModel",
      "state": {}
     },
     "6cf1ffa0c7e547e487f0fc4e5234b3ca": {
      "model_module": "@jupyter-widgets/base",
      "model_module_version": "1.2.0",
      "model_name": "LayoutModel",
      "state": {}
     },
     "7241a887f2124a9c96d3a59843a2a5c0": {
      "model_module": "@jupyter-widgets/base",
      "model_module_version": "1.2.0",
      "model_name": "LayoutModel",
      "state": {}
     },
     "b0c66792828a43f38ae63595382abbf6": {
      "model_module": "jupyter-matplotlib",
      "model_module_version": "^0.7.4",
      "model_name": "ToolbarModel",
      "state": {
       "layout": "IPY_MODEL_e972a754bf4241838d06919aeee42768",
       "toolitems": [
        [
         "Home",
         "Reset original view",
         "home",
         "home"
        ],
        [
         "Back",
         "Back to previous view",
         "arrow-left",
         "back"
        ],
        [
         "Forward",
         "Forward to next view",
         "arrow-right",
         "forward"
        ],
        [
         "Pan",
         "Pan axes with left mouse, zoom with right",
         "arrows",
         "pan"
        ],
        [
         "Zoom",
         "Zoom to rectangle",
         "square-o",
         "zoom"
        ],
        [
         "Download",
         "Download plot",
         "floppy-o",
         "save_figure"
        ]
       ]
      }
     },
     "b7d95ed910df4b9b9c12d49ef61a13fd": {
      "model_module": "jupyter-matplotlib",
      "model_module_version": "^0.7.4",
      "model_name": "ToolbarModel",
      "state": {
       "layout": "IPY_MODEL_39fba40e66f34d7c9c9e4be827baadae",
       "toolitems": [
        [
         "Home",
         "Reset original view",
         "home",
         "home"
        ],
        [
         "Back",
         "Back to previous view",
         "arrow-left",
         "back"
        ],
        [
         "Forward",
         "Forward to next view",
         "arrow-right",
         "forward"
        ],
        [
         "Pan",
         "Pan axes with left mouse, zoom with right",
         "arrows",
         "pan"
        ],
        [
         "Zoom",
         "Zoom to rectangle",
         "square-o",
         "zoom"
        ],
        [
         "Download",
         "Download plot",
         "floppy-o",
         "save_figure"
        ]
       ]
      }
     },
     "e972a754bf4241838d06919aeee42768": {
      "model_module": "@jupyter-widgets/base",
      "model_module_version": "1.2.0",
      "model_name": "LayoutModel",
      "state": {}
     }
    },
    "version_major": 2,
    "version_minor": 0
   }
  }
 },
 "nbformat": 4,
 "nbformat_minor": 4
}
